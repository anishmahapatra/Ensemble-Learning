{
  "nbformat": 4,
  "nbformat_minor": 0,
  "metadata": {
    "colab": {
      "name": "ProjectPro - Ensemble Models.ipynb",
      "provenance": [],
      "collapsed_sections": [],
      "toc_visible": true,
      "authorship_tag": "ABX9TyM//qIfR0sNCP39BwpplSph",
      "include_colab_link": true
    },
    "kernelspec": {
      "name": "python3",
      "display_name": "Python 3"
    },
    "language_info": {
      "name": "python"
    }
  },
  "cells": [
    {
      "cell_type": "markdown",
      "metadata": {
        "id": "view-in-github",
        "colab_type": "text"
      },
      "source": [
        "<a href=\"https://colab.research.google.com/github/anishmahapatra/Ensemble-Learning/blob/main/ProjectPro_Ensemble_Models.ipynb\" target=\"_parent\"><img src=\"https://colab.research.google.com/assets/colab-badge.svg\" alt=\"Open In Colab\"/></a>"
      ]
    },
    {
      "cell_type": "markdown",
      "metadata": {
        "id": "NL8vHE6ckj7L"
      },
      "source": [
        "![image.png](data:image/png;base64,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)"
      ]
    },
    {
      "cell_type": "markdown",
      "metadata": {
        "id": "wyIiayzAkE3P"
      },
      "source": [
        "# ProjectPro - Ensemble Models\n",
        "Author: Anish Mahapatra\n",
        "\n",
        "<b>Aim:</b> <br/>The purpose of this notebook is to understand Ensemble Models end to end.\n"
      ]
    },
    {
      "cell_type": "markdown",
      "metadata": {
        "id": "40fQCHgMkuex"
      },
      "source": [
        "<a name=\"0\"></a>\n",
        "## Table of Contents\n",
        "\n",
        "1 [What is Ensemble Learning](#1) <br/>\n",
        "2 [Types of Ensemble Learning](#2) <br/>\n",
        "&nbsp;&nbsp;&nbsp;&nbsp;&nbsp;&nbsp;2.1 [Max Voting](#2.1) <br/>\n",
        "&nbsp;&nbsp;&nbsp;&nbsp;&nbsp;&nbsp;2.2 [Averaging](#2.2) <br/>\n",
        "&nbsp;&nbsp;&nbsp;&nbsp;&nbsp;&nbsp;2.3 [Weighted Average](#2.3) <br/>\n",
        "&nbsp;&nbsp;&nbsp;&nbsp;&nbsp;&nbsp;2.4 [Bagging](#2.4) <br/>\n",
        "&nbsp;&nbsp;&nbsp;&nbsp;&nbsp;&nbsp;2.5 [Boosting](#2.5) <br/>\n",
        "&nbsp;&nbsp;&nbsp;&nbsp;&nbsp;&nbsp;2.6 [Stacking](#2.6) <br/>\n",
        "&nbsp;&nbsp;&nbsp;&nbsp;&nbsp;&nbsp;2.7 [Blending](#2.7) <br/>"
      ]
    },
    {
      "cell_type": "markdown",
      "metadata": {
        "id": "k-fCrp7Rl7Q3"
      },
      "source": [
        "<a name=\"1\"></a>\n",
        "## 1 Types of Ensemble Models\n",
        "Back to [Table of Contents](#0)\n",
        "\n",
        "---\n"
      ]
    },
    {
      "cell_type": "markdown",
      "metadata": {
        "id": "wPf1FmjHmAFs"
      },
      "source": [
        "<a name=\"2\"></a>\n",
        "## 2 What is Ensemble Modelling?\n",
        "Back to [Table of Contents](#0)\n",
        "\n",
        "---\n"
      ]
    },
    {
      "cell_type": "markdown",
      "metadata": {
        "id": "tngSKngpm8BA"
      },
      "source": [
        "<a name=\"2.1\"></a>\n",
        "### 2.1 Max Voting\n",
        "Back to [Table of Contents](#0)"
      ]
    },
    {
      "cell_type": "code",
      "metadata": {
        "id": "Gjp5sttv9soV"
      },
      "source": [
        "import numpy as np\n",
        "import pandas as pd\n",
        "\n",
        "import warnings\n",
        "warnings.filterwarnings('ignore')"
      ],
      "execution_count": 296,
      "outputs": []
    },
    {
      "cell_type": "code",
      "metadata": {
        "id": "3RBFe9Xe9sk6"
      },
      "source": [
        "# Reading the file onto Google Colab from GitHub using pandas library\n",
        "titanicTrainDf = pd.read_csv(\"https://raw.githubusercontent.com/anishmahapatra/Ensemble-Learning/main/titanic-dataset-train.csv\")\n",
        "titanicTestDf = pd.read_csv(\"https://raw.githubusercontent.com/anishmahapatra/Ensemble-Learning/main/titanic-dataset-test.csv\")"
      ],
      "execution_count": 297,
      "outputs": []
    },
    {
      "cell_type": "code",
      "metadata": {
        "id": "uPHSVE4r9sjX"
      },
      "source": [
        "train = titanicTrainDf.copy(deep = True)\n",
        "predict = titanicTestDf.copy(deep = True)"
      ],
      "execution_count": 298,
      "outputs": []
    },
    {
      "cell_type": "code",
      "metadata": {
        "colab": {
          "base_uri": "https://localhost:8080/",
          "height": 414
        },
        "id": "4SGTcS7t9sgd",
        "outputId": "29a80d42-9199-4954-f981-d7baa75d7694"
      },
      "source": [
        "# we will have to apply our feature engineering to both sets\n",
        "both_datasets = [train, predict]\n",
        "\n",
        "# getting an idea of what we're dealing with\n",
        "train.head(10)"
      ],
      "execution_count": 299,
      "outputs": [
        {
          "output_type": "execute_result",
          "data": {
            "text/html": [
              "<div>\n",
              "<style scoped>\n",
              "    .dataframe tbody tr th:only-of-type {\n",
              "        vertical-align: middle;\n",
              "    }\n",
              "\n",
              "    .dataframe tbody tr th {\n",
              "        vertical-align: top;\n",
              "    }\n",
              "\n",
              "    .dataframe thead th {\n",
              "        text-align: right;\n",
              "    }\n",
              "</style>\n",
              "<table border=\"1\" class=\"dataframe\">\n",
              "  <thead>\n",
              "    <tr style=\"text-align: right;\">\n",
              "      <th></th>\n",
              "      <th>PassengerId</th>\n",
              "      <th>Survived</th>\n",
              "      <th>Pclass</th>\n",
              "      <th>Name</th>\n",
              "      <th>Sex</th>\n",
              "      <th>Age</th>\n",
              "      <th>SibSp</th>\n",
              "      <th>Parch</th>\n",
              "      <th>Ticket</th>\n",
              "      <th>Fare</th>\n",
              "      <th>Cabin</th>\n",
              "      <th>Embarked</th>\n",
              "    </tr>\n",
              "  </thead>\n",
              "  <tbody>\n",
              "    <tr>\n",
              "      <th>0</th>\n",
              "      <td>1</td>\n",
              "      <td>0</td>\n",
              "      <td>3</td>\n",
              "      <td>Braund, Mr. Owen Harris</td>\n",
              "      <td>male</td>\n",
              "      <td>22.0</td>\n",
              "      <td>1</td>\n",
              "      <td>0</td>\n",
              "      <td>A/5 21171</td>\n",
              "      <td>7.2500</td>\n",
              "      <td>NaN</td>\n",
              "      <td>S</td>\n",
              "    </tr>\n",
              "    <tr>\n",
              "      <th>1</th>\n",
              "      <td>2</td>\n",
              "      <td>1</td>\n",
              "      <td>1</td>\n",
              "      <td>Cumings, Mrs. John Bradley (Florence Briggs Th...</td>\n",
              "      <td>female</td>\n",
              "      <td>38.0</td>\n",
              "      <td>1</td>\n",
              "      <td>0</td>\n",
              "      <td>PC 17599</td>\n",
              "      <td>71.2833</td>\n",
              "      <td>C85</td>\n",
              "      <td>C</td>\n",
              "    </tr>\n",
              "    <tr>\n",
              "      <th>2</th>\n",
              "      <td>3</td>\n",
              "      <td>1</td>\n",
              "      <td>3</td>\n",
              "      <td>Heikkinen, Miss. Laina</td>\n",
              "      <td>female</td>\n",
              "      <td>26.0</td>\n",
              "      <td>0</td>\n",
              "      <td>0</td>\n",
              "      <td>STON/O2. 3101282</td>\n",
              "      <td>7.9250</td>\n",
              "      <td>NaN</td>\n",
              "      <td>S</td>\n",
              "    </tr>\n",
              "    <tr>\n",
              "      <th>3</th>\n",
              "      <td>4</td>\n",
              "      <td>1</td>\n",
              "      <td>1</td>\n",
              "      <td>Futrelle, Mrs. Jacques Heath (Lily May Peel)</td>\n",
              "      <td>female</td>\n",
              "      <td>35.0</td>\n",
              "      <td>1</td>\n",
              "      <td>0</td>\n",
              "      <td>113803</td>\n",
              "      <td>53.1000</td>\n",
              "      <td>C123</td>\n",
              "      <td>S</td>\n",
              "    </tr>\n",
              "    <tr>\n",
              "      <th>4</th>\n",
              "      <td>5</td>\n",
              "      <td>0</td>\n",
              "      <td>3</td>\n",
              "      <td>Allen, Mr. William Henry</td>\n",
              "      <td>male</td>\n",
              "      <td>35.0</td>\n",
              "      <td>0</td>\n",
              "      <td>0</td>\n",
              "      <td>373450</td>\n",
              "      <td>8.0500</td>\n",
              "      <td>NaN</td>\n",
              "      <td>S</td>\n",
              "    </tr>\n",
              "    <tr>\n",
              "      <th>5</th>\n",
              "      <td>6</td>\n",
              "      <td>0</td>\n",
              "      <td>3</td>\n",
              "      <td>Moran, Mr. James</td>\n",
              "      <td>male</td>\n",
              "      <td>NaN</td>\n",
              "      <td>0</td>\n",
              "      <td>0</td>\n",
              "      <td>330877</td>\n",
              "      <td>8.4583</td>\n",
              "      <td>NaN</td>\n",
              "      <td>Q</td>\n",
              "    </tr>\n",
              "    <tr>\n",
              "      <th>6</th>\n",
              "      <td>7</td>\n",
              "      <td>0</td>\n",
              "      <td>1</td>\n",
              "      <td>McCarthy, Mr. Timothy J</td>\n",
              "      <td>male</td>\n",
              "      <td>54.0</td>\n",
              "      <td>0</td>\n",
              "      <td>0</td>\n",
              "      <td>17463</td>\n",
              "      <td>51.8625</td>\n",
              "      <td>E46</td>\n",
              "      <td>S</td>\n",
              "    </tr>\n",
              "    <tr>\n",
              "      <th>7</th>\n",
              "      <td>8</td>\n",
              "      <td>0</td>\n",
              "      <td>3</td>\n",
              "      <td>Palsson, Master. Gosta Leonard</td>\n",
              "      <td>male</td>\n",
              "      <td>2.0</td>\n",
              "      <td>3</td>\n",
              "      <td>1</td>\n",
              "      <td>349909</td>\n",
              "      <td>21.0750</td>\n",
              "      <td>NaN</td>\n",
              "      <td>S</td>\n",
              "    </tr>\n",
              "    <tr>\n",
              "      <th>8</th>\n",
              "      <td>9</td>\n",
              "      <td>1</td>\n",
              "      <td>3</td>\n",
              "      <td>Johnson, Mrs. Oscar W (Elisabeth Vilhelmina Berg)</td>\n",
              "      <td>female</td>\n",
              "      <td>27.0</td>\n",
              "      <td>0</td>\n",
              "      <td>2</td>\n",
              "      <td>347742</td>\n",
              "      <td>11.1333</td>\n",
              "      <td>NaN</td>\n",
              "      <td>S</td>\n",
              "    </tr>\n",
              "    <tr>\n",
              "      <th>9</th>\n",
              "      <td>10</td>\n",
              "      <td>1</td>\n",
              "      <td>2</td>\n",
              "      <td>Nasser, Mrs. Nicholas (Adele Achem)</td>\n",
              "      <td>female</td>\n",
              "      <td>14.0</td>\n",
              "      <td>1</td>\n",
              "      <td>0</td>\n",
              "      <td>237736</td>\n",
              "      <td>30.0708</td>\n",
              "      <td>NaN</td>\n",
              "      <td>C</td>\n",
              "    </tr>\n",
              "  </tbody>\n",
              "</table>\n",
              "</div>"
            ],
            "text/plain": [
              "   PassengerId  Survived  Pclass  ...     Fare Cabin  Embarked\n",
              "0            1         0       3  ...   7.2500   NaN         S\n",
              "1            2         1       1  ...  71.2833   C85         C\n",
              "2            3         1       3  ...   7.9250   NaN         S\n",
              "3            4         1       1  ...  53.1000  C123         S\n",
              "4            5         0       3  ...   8.0500   NaN         S\n",
              "5            6         0       3  ...   8.4583   NaN         Q\n",
              "6            7         0       1  ...  51.8625   E46         S\n",
              "7            8         0       3  ...  21.0750   NaN         S\n",
              "8            9         1       3  ...  11.1333   NaN         S\n",
              "9           10         1       2  ...  30.0708   NaN         C\n",
              "\n",
              "[10 rows x 12 columns]"
            ]
          },
          "metadata": {
            "tags": []
          },
          "execution_count": 299
        }
      ]
    },
    {
      "cell_type": "code",
      "metadata": {
        "colab": {
          "base_uri": "https://localhost:8080/"
        },
        "id": "jyeywjFiHVg0",
        "outputId": "1d26d5f2-b6f9-4d7d-8f13-67b4f9a41057"
      },
      "source": [
        "train.append(predict, sort=False).info()"
      ],
      "execution_count": 300,
      "outputs": [
        {
          "output_type": "stream",
          "text": [
            "<class 'pandas.core.frame.DataFrame'>\n",
            "Int64Index: 1309 entries, 0 to 417\n",
            "Data columns (total 12 columns):\n",
            " #   Column       Non-Null Count  Dtype  \n",
            "---  ------       --------------  -----  \n",
            " 0   PassengerId  1309 non-null   int64  \n",
            " 1   Survived     891 non-null    float64\n",
            " 2   Pclass       1309 non-null   int64  \n",
            " 3   Name         1309 non-null   object \n",
            " 4   Sex          1309 non-null   object \n",
            " 5   Age          1046 non-null   float64\n",
            " 6   SibSp        1309 non-null   int64  \n",
            " 7   Parch        1309 non-null   int64  \n",
            " 8   Ticket       1309 non-null   object \n",
            " 9   Fare         1308 non-null   float64\n",
            " 10  Cabin        295 non-null    object \n",
            " 11  Embarked     1307 non-null   object \n",
            "dtypes: float64(3), int64(4), object(5)\n",
            "memory usage: 132.9+ KB\n"
          ],
          "name": "stdout"
        }
      ]
    },
    {
      "cell_type": "markdown",
      "metadata": {
        "id": "q8hbUrZxHbPm"
      },
      "source": [
        "Let's handle the null values in the Age, Cabin, Embarked, and Fare columns.\n",
        "\n"
      ]
    },
    {
      "cell_type": "code",
      "metadata": {
        "id": "nSBlQh-_HVeB"
      },
      "source": [
        "\"\"\" values taken from the training set, which needn't be changed in the loop \"\"\"\n",
        "\n",
        "# ports where people boarded\n",
        "embark = train[['Embarked', 'PassengerId']] \\\n",
        "    .groupby(['Embarked']) \\\n",
        "    .count() \\\n",
        "    .rename(columns={'PassengerId': 'PassengerCount'})\n",
        "embark = embark.PassengerCount.to_dict() \n",
        "\n",
        "# calculating the median fare per passenger class\n",
        "fare_medians = train[['Pclass', 'Fare']] \\\n",
        "    .groupby('Pclass') \\\n",
        "    .median() \\\n",
        "    .to_dict()['Fare']"
      ],
      "execution_count": 301,
      "outputs": []
    },
    {
      "cell_type": "code",
      "metadata": {
        "id": "MtXo48sYHVat"
      },
      "source": [
        "# looping through both train and predict\n",
        "for df in both_datasets:\n",
        "    \n",
        "    \"\"\" age \"\"\"\n",
        "    # create a random distribution of age based on the dataframe's stats\n",
        "    mu, sigma, n = train.Age.mean(), train.Age.std(), df.Age.isnull().sum()\n",
        "    normal_distr = np.random.normal(mu, sigma, n)\n",
        "    \n",
        "    # impute it on the missing values\n",
        "    df.Age.loc[np.isnan(df.Age)] = normal_distr.astype(int)\n",
        "    \n",
        "    \"\"\" cabin \"\"\"\n",
        "    # convert Cabin to boolean (passenger has cabin y/n)\n",
        "    df.Cabin = df.Cabin.apply(lambda x: 1 if not pd.isnull(x) else 0)\n",
        "    \n",
        "    \"\"\" embarked \"\"\"\n",
        "    # only two missing values, so let's just take the most common port\n",
        "    embark_imputes = max(embark, key=embark.get)\n",
        "    \n",
        "    # impute\n",
        "    df.Embarked = df.Embarked.fillna(embark_imputes)\n",
        "    \n",
        "    \"\"\" fare \"\"\"    \n",
        "    # impute by mapping Pclass to the previously defined dictionary\n",
        "    df.Fare = df.Fare.fillna(df.Pclass.map(fare_medians))"
      ],
      "execution_count": 302,
      "outputs": []
    },
    {
      "cell_type": "code",
      "metadata": {
        "colab": {
          "base_uri": "https://localhost:8080/"
        },
        "id": "FlB7dbPqHVXx",
        "outputId": "81c93d9a-69ff-497d-badc-1736bcec7626"
      },
      "source": [
        "train.append(predict, sort=False).info()"
      ],
      "execution_count": 303,
      "outputs": [
        {
          "output_type": "stream",
          "text": [
            "<class 'pandas.core.frame.DataFrame'>\n",
            "Int64Index: 1309 entries, 0 to 417\n",
            "Data columns (total 12 columns):\n",
            " #   Column       Non-Null Count  Dtype  \n",
            "---  ------       --------------  -----  \n",
            " 0   PassengerId  1309 non-null   int64  \n",
            " 1   Survived     891 non-null    float64\n",
            " 2   Pclass       1309 non-null   int64  \n",
            " 3   Name         1309 non-null   object \n",
            " 4   Sex          1309 non-null   object \n",
            " 5   Age          1309 non-null   float64\n",
            " 6   SibSp        1309 non-null   int64  \n",
            " 7   Parch        1309 non-null   int64  \n",
            " 8   Ticket       1309 non-null   object \n",
            " 9   Fare         1309 non-null   float64\n",
            " 10  Cabin        1309 non-null   int64  \n",
            " 11  Embarked     1309 non-null   object \n",
            "dtypes: float64(3), int64(5), object(4)\n",
            "memory usage: 132.9+ KB\n"
          ],
          "name": "stdout"
        }
      ]
    },
    {
      "cell_type": "markdown",
      "metadata": {
        "id": "Cg1SLJ9YHmin"
      },
      "source": [
        "The only NaN values remaining are our missing predictions. The rest looks good!"
      ]
    },
    {
      "cell_type": "markdown",
      "metadata": {
        "id": "MZWumX43HsQ8"
      },
      "source": [
        "Feature engineering & Cleansing"
      ]
    },
    {
      "cell_type": "code",
      "metadata": {
        "id": "fe5N5Z_HHr2s"
      },
      "source": [
        "import re\n",
        "\n",
        "def get_title(name):\n",
        "    title = re.search(' ([A-Za-z]+)\\.', name)\n",
        "    if title: return title.group(1)\n",
        "\n",
        "def get_int_age_group(age):\n",
        "    age_group = 'elderly'\n",
        "    if age <= 50: age_group = 'old_adult'\n",
        "    if age <= 40: age_group = 'mid_adult'\n",
        "    if age <= 30: age_group = 'young_adult'\n",
        "    if age <= 18: age_group = 'teenager'\n",
        "    if age <= 9 : age_group = 'child'\n",
        "        \n",
        "    return age_group"
      ],
      "execution_count": 304,
      "outputs": []
    },
    {
      "cell_type": "code",
      "metadata": {
        "colab": {
          "base_uri": "https://localhost:8080/",
          "height": 414
        },
        "id": "fn8BswmmHVUF",
        "outputId": "10490810-e75c-4544-b917-232848b6aa15"
      },
      "source": [
        "train.head(10)"
      ],
      "execution_count": 305,
      "outputs": [
        {
          "output_type": "execute_result",
          "data": {
            "text/html": [
              "<div>\n",
              "<style scoped>\n",
              "    .dataframe tbody tr th:only-of-type {\n",
              "        vertical-align: middle;\n",
              "    }\n",
              "\n",
              "    .dataframe tbody tr th {\n",
              "        vertical-align: top;\n",
              "    }\n",
              "\n",
              "    .dataframe thead th {\n",
              "        text-align: right;\n",
              "    }\n",
              "</style>\n",
              "<table border=\"1\" class=\"dataframe\">\n",
              "  <thead>\n",
              "    <tr style=\"text-align: right;\">\n",
              "      <th></th>\n",
              "      <th>PassengerId</th>\n",
              "      <th>Survived</th>\n",
              "      <th>Pclass</th>\n",
              "      <th>Name</th>\n",
              "      <th>Sex</th>\n",
              "      <th>Age</th>\n",
              "      <th>SibSp</th>\n",
              "      <th>Parch</th>\n",
              "      <th>Ticket</th>\n",
              "      <th>Fare</th>\n",
              "      <th>Cabin</th>\n",
              "      <th>Embarked</th>\n",
              "    </tr>\n",
              "  </thead>\n",
              "  <tbody>\n",
              "    <tr>\n",
              "      <th>0</th>\n",
              "      <td>1</td>\n",
              "      <td>0</td>\n",
              "      <td>3</td>\n",
              "      <td>Braund, Mr. Owen Harris</td>\n",
              "      <td>male</td>\n",
              "      <td>22.0</td>\n",
              "      <td>1</td>\n",
              "      <td>0</td>\n",
              "      <td>A/5 21171</td>\n",
              "      <td>7.2500</td>\n",
              "      <td>0</td>\n",
              "      <td>S</td>\n",
              "    </tr>\n",
              "    <tr>\n",
              "      <th>1</th>\n",
              "      <td>2</td>\n",
              "      <td>1</td>\n",
              "      <td>1</td>\n",
              "      <td>Cumings, Mrs. John Bradley (Florence Briggs Th...</td>\n",
              "      <td>female</td>\n",
              "      <td>38.0</td>\n",
              "      <td>1</td>\n",
              "      <td>0</td>\n",
              "      <td>PC 17599</td>\n",
              "      <td>71.2833</td>\n",
              "      <td>1</td>\n",
              "      <td>C</td>\n",
              "    </tr>\n",
              "    <tr>\n",
              "      <th>2</th>\n",
              "      <td>3</td>\n",
              "      <td>1</td>\n",
              "      <td>3</td>\n",
              "      <td>Heikkinen, Miss. Laina</td>\n",
              "      <td>female</td>\n",
              "      <td>26.0</td>\n",
              "      <td>0</td>\n",
              "      <td>0</td>\n",
              "      <td>STON/O2. 3101282</td>\n",
              "      <td>7.9250</td>\n",
              "      <td>0</td>\n",
              "      <td>S</td>\n",
              "    </tr>\n",
              "    <tr>\n",
              "      <th>3</th>\n",
              "      <td>4</td>\n",
              "      <td>1</td>\n",
              "      <td>1</td>\n",
              "      <td>Futrelle, Mrs. Jacques Heath (Lily May Peel)</td>\n",
              "      <td>female</td>\n",
              "      <td>35.0</td>\n",
              "      <td>1</td>\n",
              "      <td>0</td>\n",
              "      <td>113803</td>\n",
              "      <td>53.1000</td>\n",
              "      <td>1</td>\n",
              "      <td>S</td>\n",
              "    </tr>\n",
              "    <tr>\n",
              "      <th>4</th>\n",
              "      <td>5</td>\n",
              "      <td>0</td>\n",
              "      <td>3</td>\n",
              "      <td>Allen, Mr. William Henry</td>\n",
              "      <td>male</td>\n",
              "      <td>35.0</td>\n",
              "      <td>0</td>\n",
              "      <td>0</td>\n",
              "      <td>373450</td>\n",
              "      <td>8.0500</td>\n",
              "      <td>0</td>\n",
              "      <td>S</td>\n",
              "    </tr>\n",
              "    <tr>\n",
              "      <th>5</th>\n",
              "      <td>6</td>\n",
              "      <td>0</td>\n",
              "      <td>3</td>\n",
              "      <td>Moran, Mr. James</td>\n",
              "      <td>male</td>\n",
              "      <td>54.0</td>\n",
              "      <td>0</td>\n",
              "      <td>0</td>\n",
              "      <td>330877</td>\n",
              "      <td>8.4583</td>\n",
              "      <td>0</td>\n",
              "      <td>Q</td>\n",
              "    </tr>\n",
              "    <tr>\n",
              "      <th>6</th>\n",
              "      <td>7</td>\n",
              "      <td>0</td>\n",
              "      <td>1</td>\n",
              "      <td>McCarthy, Mr. Timothy J</td>\n",
              "      <td>male</td>\n",
              "      <td>54.0</td>\n",
              "      <td>0</td>\n",
              "      <td>0</td>\n",
              "      <td>17463</td>\n",
              "      <td>51.8625</td>\n",
              "      <td>1</td>\n",
              "      <td>S</td>\n",
              "    </tr>\n",
              "    <tr>\n",
              "      <th>7</th>\n",
              "      <td>8</td>\n",
              "      <td>0</td>\n",
              "      <td>3</td>\n",
              "      <td>Palsson, Master. Gosta Leonard</td>\n",
              "      <td>male</td>\n",
              "      <td>2.0</td>\n",
              "      <td>3</td>\n",
              "      <td>1</td>\n",
              "      <td>349909</td>\n",
              "      <td>21.0750</td>\n",
              "      <td>0</td>\n",
              "      <td>S</td>\n",
              "    </tr>\n",
              "    <tr>\n",
              "      <th>8</th>\n",
              "      <td>9</td>\n",
              "      <td>1</td>\n",
              "      <td>3</td>\n",
              "      <td>Johnson, Mrs. Oscar W (Elisabeth Vilhelmina Berg)</td>\n",
              "      <td>female</td>\n",
              "      <td>27.0</td>\n",
              "      <td>0</td>\n",
              "      <td>2</td>\n",
              "      <td>347742</td>\n",
              "      <td>11.1333</td>\n",
              "      <td>0</td>\n",
              "      <td>S</td>\n",
              "    </tr>\n",
              "    <tr>\n",
              "      <th>9</th>\n",
              "      <td>10</td>\n",
              "      <td>1</td>\n",
              "      <td>2</td>\n",
              "      <td>Nasser, Mrs. Nicholas (Adele Achem)</td>\n",
              "      <td>female</td>\n",
              "      <td>14.0</td>\n",
              "      <td>1</td>\n",
              "      <td>0</td>\n",
              "      <td>237736</td>\n",
              "      <td>30.0708</td>\n",
              "      <td>0</td>\n",
              "      <td>C</td>\n",
              "    </tr>\n",
              "  </tbody>\n",
              "</table>\n",
              "</div>"
            ],
            "text/plain": [
              "   PassengerId  Survived  Pclass  ...     Fare Cabin  Embarked\n",
              "0            1         0       3  ...   7.2500     0         S\n",
              "1            2         1       1  ...  71.2833     1         C\n",
              "2            3         1       3  ...   7.9250     0         S\n",
              "3            4         1       1  ...  53.1000     1         S\n",
              "4            5         0       3  ...   8.0500     0         S\n",
              "5            6         0       3  ...   8.4583     0         Q\n",
              "6            7         0       1  ...  51.8625     1         S\n",
              "7            8         0       3  ...  21.0750     0         S\n",
              "8            9         1       3  ...  11.1333     0         S\n",
              "9           10         1       2  ...  30.0708     0         C\n",
              "\n",
              "[10 rows x 12 columns]"
            ]
          },
          "metadata": {
            "tags": []
          },
          "execution_count": 305
        }
      ]
    },
    {
      "cell_type": "code",
      "metadata": {
        "id": "hhc0ETLbHVQ2"
      },
      "source": [
        "# looping through both train and predict\n",
        "for df in both_datasets:\n",
        "    \n",
        "    \"\"\" name -> title \"\"\"\n",
        "    # extracting the title with regular expressions where there is one\n",
        "    df['Title'] = df.Name.apply(get_title)\n",
        "    \n",
        "    # processing the extract titled\n",
        "    df.Title = df.Title.replace({\n",
        "        'Mlle': 'Miss',\n",
        "        'Ms': 'Miss',\n",
        "        'Mme': 'Mrs'\n",
        "    })\n",
        "    \n",
        "    \"\"\" sex \"\"\"\n",
        "    df.Sex = df.Sex.map({\n",
        "        'male'  : 0,\n",
        "        'female': 1\n",
        "    })\n",
        "    \n",
        "    \"\"\" age \"\"\"\n",
        "    # convert ages to categories\n",
        "    df.Age = df.Age.apply(get_int_age_group)\n",
        "    \n",
        "    \"\"\" traveled alone \"\"\"\n",
        "    df['TraveledAlone'] = df.apply(lambda row: 1 if row['SibSp'] + row['Parch'] == 0 else 0, axis=1)"
      ],
      "execution_count": 306,
      "outputs": []
    },
    {
      "cell_type": "markdown",
      "metadata": {
        "id": "52awP4ftIDOP"
      },
      "source": [
        "The fare is going to be based on the training set quartiles, so we need to do it outside of the loop."
      ]
    },
    {
      "cell_type": "code",
      "metadata": {
        "id": "gMJYfvBLHVOD"
      },
      "source": [
        "# we want categories\n",
        "labels = ['cheap', 'economy', 'business', 'first']\n",
        "\n",
        "\"\"\" fare \"\"\"\n",
        "# quartiles based on the training set\n",
        "fare_categorical_series, bins = pd.qcut(train['Fare'], q=4, retbins=True, labels=labels)\n",
        "\n",
        "# putting the series in the training set\n",
        "train['FareCategorical'] = fare_categorical_series\n",
        "\n",
        "# cutting the predict set based on the bins derived from the training set\n",
        "predict['FareCategorical'] = pd.cut(predict.Fare, bins=bins, labels=labels, include_lowest=True)"
      ],
      "execution_count": 307,
      "outputs": []
    },
    {
      "cell_type": "markdown",
      "metadata": {
        "id": "TbS2gtRaIIKu"
      },
      "source": [
        "One more pass for the Title."
      ]
    },
    {
      "cell_type": "code",
      "metadata": {
        "id": "-pWeS967HVLs"
      },
      "source": [
        " # any title that appears less than 4% of the time in the training set is treated as rare\n",
        "titles = train[['Title', 'PassengerId']] \\\n",
        "    .groupby(['Title'], as_index=False) \\\n",
        "    .count() \\\n",
        "    .rename(columns={'PassengerId': 'Count'})\n",
        "\n",
        "titles['Common'] = titles.Count / titles.Count.sum() > 0.04\n",
        "common_titles = list(titles.loc[titles.Common == True].Title.values)\n",
        "\n",
        "# looping over both train and predict datasets\n",
        "for df in both_datasets:\n",
        "    \n",
        "    \"\"\" title \"\"\"    \n",
        "    # map the common titles to a number\n",
        "    df.Title = df.apply(lambda row: 'Rare' if row['Title'] not in common_titles else row['Title'], axis=1)\n"
      ],
      "execution_count": 308,
      "outputs": []
    },
    {
      "cell_type": "markdown",
      "metadata": {
        "id": "BJQAmJ0LIMdv"
      },
      "source": [
        "Dummifying"
      ]
    },
    {
      "cell_type": "code",
      "metadata": {
        "id": "tMhgrDhiHVIx"
      },
      "source": [
        "def dummify(df, column_to_dummify):\n",
        "\n",
        "    dummies = pd.get_dummies(df[column_to_dummify], prefix=column_to_dummify)\n",
        "    df = pd.concat([df, dummies], axis=1)\n",
        "    df.drop(column_to_dummify, axis=1, inplace=True)\n",
        "\n",
        "    return df"
      ],
      "execution_count": 309,
      "outputs": []
    },
    {
      "cell_type": "code",
      "metadata": {
        "id": "H156G0noHVG1"
      },
      "source": [
        "cols_to_dummify = ['Pclass', 'Embarked', 'Age', 'FareCategorical', 'Title']\n",
        "\n",
        "for col in cols_to_dummify:\n",
        "    train = dummify(train, col)\n",
        "    predict = dummify(predict, col)"
      ],
      "execution_count": 310,
      "outputs": []
    },
    {
      "cell_type": "code",
      "metadata": {
        "colab": {
          "base_uri": "https://localhost:8080/",
          "height": 484
        },
        "id": "j36998fVHVFD",
        "outputId": "d276cf32-c7a4-4b1b-bdd4-bf41863b5190"
      },
      "source": [
        "train.head()"
      ],
      "execution_count": 311,
      "outputs": [
        {
          "output_type": "execute_result",
          "data": {
            "text/html": [
              "<div>\n",
              "<style scoped>\n",
              "    .dataframe tbody tr th:only-of-type {\n",
              "        vertical-align: middle;\n",
              "    }\n",
              "\n",
              "    .dataframe tbody tr th {\n",
              "        vertical-align: top;\n",
              "    }\n",
              "\n",
              "    .dataframe thead th {\n",
              "        text-align: right;\n",
              "    }\n",
              "</style>\n",
              "<table border=\"1\" class=\"dataframe\">\n",
              "  <thead>\n",
              "    <tr style=\"text-align: right;\">\n",
              "      <th></th>\n",
              "      <th>PassengerId</th>\n",
              "      <th>Survived</th>\n",
              "      <th>Name</th>\n",
              "      <th>Sex</th>\n",
              "      <th>SibSp</th>\n",
              "      <th>Parch</th>\n",
              "      <th>Ticket</th>\n",
              "      <th>Fare</th>\n",
              "      <th>Cabin</th>\n",
              "      <th>TraveledAlone</th>\n",
              "      <th>Pclass_1</th>\n",
              "      <th>Pclass_2</th>\n",
              "      <th>Pclass_3</th>\n",
              "      <th>Embarked_C</th>\n",
              "      <th>Embarked_Q</th>\n",
              "      <th>Embarked_S</th>\n",
              "      <th>Age_child</th>\n",
              "      <th>Age_elderly</th>\n",
              "      <th>Age_mid_adult</th>\n",
              "      <th>Age_old_adult</th>\n",
              "      <th>Age_teenager</th>\n",
              "      <th>Age_young_adult</th>\n",
              "      <th>FareCategorical_cheap</th>\n",
              "      <th>FareCategorical_economy</th>\n",
              "      <th>FareCategorical_business</th>\n",
              "      <th>FareCategorical_first</th>\n",
              "      <th>Title_Master</th>\n",
              "      <th>Title_Miss</th>\n",
              "      <th>Title_Mr</th>\n",
              "      <th>Title_Mrs</th>\n",
              "      <th>Title_Rare</th>\n",
              "    </tr>\n",
              "  </thead>\n",
              "  <tbody>\n",
              "    <tr>\n",
              "      <th>0</th>\n",
              "      <td>1</td>\n",
              "      <td>0</td>\n",
              "      <td>Braund, Mr. Owen Harris</td>\n",
              "      <td>0</td>\n",
              "      <td>1</td>\n",
              "      <td>0</td>\n",
              "      <td>A/5 21171</td>\n",
              "      <td>7.2500</td>\n",
              "      <td>0</td>\n",
              "      <td>0</td>\n",
              "      <td>0</td>\n",
              "      <td>0</td>\n",
              "      <td>1</td>\n",
              "      <td>0</td>\n",
              "      <td>0</td>\n",
              "      <td>1</td>\n",
              "      <td>0</td>\n",
              "      <td>0</td>\n",
              "      <td>0</td>\n",
              "      <td>0</td>\n",
              "      <td>0</td>\n",
              "      <td>1</td>\n",
              "      <td>1</td>\n",
              "      <td>0</td>\n",
              "      <td>0</td>\n",
              "      <td>0</td>\n",
              "      <td>0</td>\n",
              "      <td>0</td>\n",
              "      <td>1</td>\n",
              "      <td>0</td>\n",
              "      <td>0</td>\n",
              "    </tr>\n",
              "    <tr>\n",
              "      <th>1</th>\n",
              "      <td>2</td>\n",
              "      <td>1</td>\n",
              "      <td>Cumings, Mrs. John Bradley (Florence Briggs Th...</td>\n",
              "      <td>1</td>\n",
              "      <td>1</td>\n",
              "      <td>0</td>\n",
              "      <td>PC 17599</td>\n",
              "      <td>71.2833</td>\n",
              "      <td>1</td>\n",
              "      <td>0</td>\n",
              "      <td>1</td>\n",
              "      <td>0</td>\n",
              "      <td>0</td>\n",
              "      <td>1</td>\n",
              "      <td>0</td>\n",
              "      <td>0</td>\n",
              "      <td>0</td>\n",
              "      <td>0</td>\n",
              "      <td>1</td>\n",
              "      <td>0</td>\n",
              "      <td>0</td>\n",
              "      <td>0</td>\n",
              "      <td>0</td>\n",
              "      <td>0</td>\n",
              "      <td>0</td>\n",
              "      <td>1</td>\n",
              "      <td>0</td>\n",
              "      <td>0</td>\n",
              "      <td>0</td>\n",
              "      <td>1</td>\n",
              "      <td>0</td>\n",
              "    </tr>\n",
              "    <tr>\n",
              "      <th>2</th>\n",
              "      <td>3</td>\n",
              "      <td>1</td>\n",
              "      <td>Heikkinen, Miss. Laina</td>\n",
              "      <td>1</td>\n",
              "      <td>0</td>\n",
              "      <td>0</td>\n",
              "      <td>STON/O2. 3101282</td>\n",
              "      <td>7.9250</td>\n",
              "      <td>0</td>\n",
              "      <td>1</td>\n",
              "      <td>0</td>\n",
              "      <td>0</td>\n",
              "      <td>1</td>\n",
              "      <td>0</td>\n",
              "      <td>0</td>\n",
              "      <td>1</td>\n",
              "      <td>0</td>\n",
              "      <td>0</td>\n",
              "      <td>0</td>\n",
              "      <td>0</td>\n",
              "      <td>0</td>\n",
              "      <td>1</td>\n",
              "      <td>0</td>\n",
              "      <td>1</td>\n",
              "      <td>0</td>\n",
              "      <td>0</td>\n",
              "      <td>0</td>\n",
              "      <td>1</td>\n",
              "      <td>0</td>\n",
              "      <td>0</td>\n",
              "      <td>0</td>\n",
              "    </tr>\n",
              "    <tr>\n",
              "      <th>3</th>\n",
              "      <td>4</td>\n",
              "      <td>1</td>\n",
              "      <td>Futrelle, Mrs. Jacques Heath (Lily May Peel)</td>\n",
              "      <td>1</td>\n",
              "      <td>1</td>\n",
              "      <td>0</td>\n",
              "      <td>113803</td>\n",
              "      <td>53.1000</td>\n",
              "      <td>1</td>\n",
              "      <td>0</td>\n",
              "      <td>1</td>\n",
              "      <td>0</td>\n",
              "      <td>0</td>\n",
              "      <td>0</td>\n",
              "      <td>0</td>\n",
              "      <td>1</td>\n",
              "      <td>0</td>\n",
              "      <td>0</td>\n",
              "      <td>1</td>\n",
              "      <td>0</td>\n",
              "      <td>0</td>\n",
              "      <td>0</td>\n",
              "      <td>0</td>\n",
              "      <td>0</td>\n",
              "      <td>0</td>\n",
              "      <td>1</td>\n",
              "      <td>0</td>\n",
              "      <td>0</td>\n",
              "      <td>0</td>\n",
              "      <td>1</td>\n",
              "      <td>0</td>\n",
              "    </tr>\n",
              "    <tr>\n",
              "      <th>4</th>\n",
              "      <td>5</td>\n",
              "      <td>0</td>\n",
              "      <td>Allen, Mr. William Henry</td>\n",
              "      <td>0</td>\n",
              "      <td>0</td>\n",
              "      <td>0</td>\n",
              "      <td>373450</td>\n",
              "      <td>8.0500</td>\n",
              "      <td>0</td>\n",
              "      <td>1</td>\n",
              "      <td>0</td>\n",
              "      <td>0</td>\n",
              "      <td>1</td>\n",
              "      <td>0</td>\n",
              "      <td>0</td>\n",
              "      <td>1</td>\n",
              "      <td>0</td>\n",
              "      <td>0</td>\n",
              "      <td>1</td>\n",
              "      <td>0</td>\n",
              "      <td>0</td>\n",
              "      <td>0</td>\n",
              "      <td>0</td>\n",
              "      <td>1</td>\n",
              "      <td>0</td>\n",
              "      <td>0</td>\n",
              "      <td>0</td>\n",
              "      <td>0</td>\n",
              "      <td>1</td>\n",
              "      <td>0</td>\n",
              "      <td>0</td>\n",
              "    </tr>\n",
              "  </tbody>\n",
              "</table>\n",
              "</div>"
            ],
            "text/plain": [
              "   PassengerId  Survived  ... Title_Mrs  Title_Rare\n",
              "0            1         0  ...         0           0\n",
              "1            2         1  ...         1           0\n",
              "2            3         1  ...         0           0\n",
              "3            4         1  ...         1           0\n",
              "4            5         0  ...         0           0\n",
              "\n",
              "[5 rows x 31 columns]"
            ]
          },
          "metadata": {
            "tags": []
          },
          "execution_count": 311
        }
      ]
    },
    {
      "cell_type": "markdown",
      "metadata": {
        "id": "wRY0hbyzIZSV"
      },
      "source": [
        "Feature selection"
      ]
    },
    {
      "cell_type": "code",
      "metadata": {
        "id": "tcG9J01dHVDN"
      },
      "source": [
        "# extracting the passenger column from the submission \n",
        "# dataset for later use during our submission\n",
        "passenger_id = predict.PassengerId\n",
        "\n",
        "# selection\n",
        "unwanted_features = ['PassengerId', 'Name', 'Ticket', 'Fare', 'SibSp', 'Parch']\n",
        "\n",
        "# dropping selection\n",
        "train   = train.drop(unwanted_features, axis=1)\n",
        "predict = predict.drop(unwanted_features, axis=1)"
      ],
      "execution_count": 312,
      "outputs": []
    },
    {
      "cell_type": "code",
      "metadata": {
        "colab": {
          "base_uri": "https://localhost:8080/",
          "height": 367
        },
        "id": "NSY84qkRHVBf",
        "outputId": "ab5eb9f6-8f2c-48d1-e40b-c70559ae815d"
      },
      "source": [
        "train.head(10)"
      ],
      "execution_count": 313,
      "outputs": [
        {
          "output_type": "execute_result",
          "data": {
            "text/html": [
              "<div>\n",
              "<style scoped>\n",
              "    .dataframe tbody tr th:only-of-type {\n",
              "        vertical-align: middle;\n",
              "    }\n",
              "\n",
              "    .dataframe tbody tr th {\n",
              "        vertical-align: top;\n",
              "    }\n",
              "\n",
              "    .dataframe thead th {\n",
              "        text-align: right;\n",
              "    }\n",
              "</style>\n",
              "<table border=\"1\" class=\"dataframe\">\n",
              "  <thead>\n",
              "    <tr style=\"text-align: right;\">\n",
              "      <th></th>\n",
              "      <th>Survived</th>\n",
              "      <th>Sex</th>\n",
              "      <th>Cabin</th>\n",
              "      <th>TraveledAlone</th>\n",
              "      <th>Pclass_1</th>\n",
              "      <th>Pclass_2</th>\n",
              "      <th>Pclass_3</th>\n",
              "      <th>Embarked_C</th>\n",
              "      <th>Embarked_Q</th>\n",
              "      <th>Embarked_S</th>\n",
              "      <th>Age_child</th>\n",
              "      <th>Age_elderly</th>\n",
              "      <th>Age_mid_adult</th>\n",
              "      <th>Age_old_adult</th>\n",
              "      <th>Age_teenager</th>\n",
              "      <th>Age_young_adult</th>\n",
              "      <th>FareCategorical_cheap</th>\n",
              "      <th>FareCategorical_economy</th>\n",
              "      <th>FareCategorical_business</th>\n",
              "      <th>FareCategorical_first</th>\n",
              "      <th>Title_Master</th>\n",
              "      <th>Title_Miss</th>\n",
              "      <th>Title_Mr</th>\n",
              "      <th>Title_Mrs</th>\n",
              "      <th>Title_Rare</th>\n",
              "    </tr>\n",
              "  </thead>\n",
              "  <tbody>\n",
              "    <tr>\n",
              "      <th>0</th>\n",
              "      <td>0</td>\n",
              "      <td>0</td>\n",
              "      <td>0</td>\n",
              "      <td>0</td>\n",
              "      <td>0</td>\n",
              "      <td>0</td>\n",
              "      <td>1</td>\n",
              "      <td>0</td>\n",
              "      <td>0</td>\n",
              "      <td>1</td>\n",
              "      <td>0</td>\n",
              "      <td>0</td>\n",
              "      <td>0</td>\n",
              "      <td>0</td>\n",
              "      <td>0</td>\n",
              "      <td>1</td>\n",
              "      <td>1</td>\n",
              "      <td>0</td>\n",
              "      <td>0</td>\n",
              "      <td>0</td>\n",
              "      <td>0</td>\n",
              "      <td>0</td>\n",
              "      <td>1</td>\n",
              "      <td>0</td>\n",
              "      <td>0</td>\n",
              "    </tr>\n",
              "    <tr>\n",
              "      <th>1</th>\n",
              "      <td>1</td>\n",
              "      <td>1</td>\n",
              "      <td>1</td>\n",
              "      <td>0</td>\n",
              "      <td>1</td>\n",
              "      <td>0</td>\n",
              "      <td>0</td>\n",
              "      <td>1</td>\n",
              "      <td>0</td>\n",
              "      <td>0</td>\n",
              "      <td>0</td>\n",
              "      <td>0</td>\n",
              "      <td>1</td>\n",
              "      <td>0</td>\n",
              "      <td>0</td>\n",
              "      <td>0</td>\n",
              "      <td>0</td>\n",
              "      <td>0</td>\n",
              "      <td>0</td>\n",
              "      <td>1</td>\n",
              "      <td>0</td>\n",
              "      <td>0</td>\n",
              "      <td>0</td>\n",
              "      <td>1</td>\n",
              "      <td>0</td>\n",
              "    </tr>\n",
              "    <tr>\n",
              "      <th>2</th>\n",
              "      <td>1</td>\n",
              "      <td>1</td>\n",
              "      <td>0</td>\n",
              "      <td>1</td>\n",
              "      <td>0</td>\n",
              "      <td>0</td>\n",
              "      <td>1</td>\n",
              "      <td>0</td>\n",
              "      <td>0</td>\n",
              "      <td>1</td>\n",
              "      <td>0</td>\n",
              "      <td>0</td>\n",
              "      <td>0</td>\n",
              "      <td>0</td>\n",
              "      <td>0</td>\n",
              "      <td>1</td>\n",
              "      <td>0</td>\n",
              "      <td>1</td>\n",
              "      <td>0</td>\n",
              "      <td>0</td>\n",
              "      <td>0</td>\n",
              "      <td>1</td>\n",
              "      <td>0</td>\n",
              "      <td>0</td>\n",
              "      <td>0</td>\n",
              "    </tr>\n",
              "    <tr>\n",
              "      <th>3</th>\n",
              "      <td>1</td>\n",
              "      <td>1</td>\n",
              "      <td>1</td>\n",
              "      <td>0</td>\n",
              "      <td>1</td>\n",
              "      <td>0</td>\n",
              "      <td>0</td>\n",
              "      <td>0</td>\n",
              "      <td>0</td>\n",
              "      <td>1</td>\n",
              "      <td>0</td>\n",
              "      <td>0</td>\n",
              "      <td>1</td>\n",
              "      <td>0</td>\n",
              "      <td>0</td>\n",
              "      <td>0</td>\n",
              "      <td>0</td>\n",
              "      <td>0</td>\n",
              "      <td>0</td>\n",
              "      <td>1</td>\n",
              "      <td>0</td>\n",
              "      <td>0</td>\n",
              "      <td>0</td>\n",
              "      <td>1</td>\n",
              "      <td>0</td>\n",
              "    </tr>\n",
              "    <tr>\n",
              "      <th>4</th>\n",
              "      <td>0</td>\n",
              "      <td>0</td>\n",
              "      <td>0</td>\n",
              "      <td>1</td>\n",
              "      <td>0</td>\n",
              "      <td>0</td>\n",
              "      <td>1</td>\n",
              "      <td>0</td>\n",
              "      <td>0</td>\n",
              "      <td>1</td>\n",
              "      <td>0</td>\n",
              "      <td>0</td>\n",
              "      <td>1</td>\n",
              "      <td>0</td>\n",
              "      <td>0</td>\n",
              "      <td>0</td>\n",
              "      <td>0</td>\n",
              "      <td>1</td>\n",
              "      <td>0</td>\n",
              "      <td>0</td>\n",
              "      <td>0</td>\n",
              "      <td>0</td>\n",
              "      <td>1</td>\n",
              "      <td>0</td>\n",
              "      <td>0</td>\n",
              "    </tr>\n",
              "    <tr>\n",
              "      <th>5</th>\n",
              "      <td>0</td>\n",
              "      <td>0</td>\n",
              "      <td>0</td>\n",
              "      <td>1</td>\n",
              "      <td>0</td>\n",
              "      <td>0</td>\n",
              "      <td>1</td>\n",
              "      <td>0</td>\n",
              "      <td>1</td>\n",
              "      <td>0</td>\n",
              "      <td>0</td>\n",
              "      <td>1</td>\n",
              "      <td>0</td>\n",
              "      <td>0</td>\n",
              "      <td>0</td>\n",
              "      <td>0</td>\n",
              "      <td>0</td>\n",
              "      <td>1</td>\n",
              "      <td>0</td>\n",
              "      <td>0</td>\n",
              "      <td>0</td>\n",
              "      <td>0</td>\n",
              "      <td>1</td>\n",
              "      <td>0</td>\n",
              "      <td>0</td>\n",
              "    </tr>\n",
              "    <tr>\n",
              "      <th>6</th>\n",
              "      <td>0</td>\n",
              "      <td>0</td>\n",
              "      <td>1</td>\n",
              "      <td>1</td>\n",
              "      <td>1</td>\n",
              "      <td>0</td>\n",
              "      <td>0</td>\n",
              "      <td>0</td>\n",
              "      <td>0</td>\n",
              "      <td>1</td>\n",
              "      <td>0</td>\n",
              "      <td>1</td>\n",
              "      <td>0</td>\n",
              "      <td>0</td>\n",
              "      <td>0</td>\n",
              "      <td>0</td>\n",
              "      <td>0</td>\n",
              "      <td>0</td>\n",
              "      <td>0</td>\n",
              "      <td>1</td>\n",
              "      <td>0</td>\n",
              "      <td>0</td>\n",
              "      <td>1</td>\n",
              "      <td>0</td>\n",
              "      <td>0</td>\n",
              "    </tr>\n",
              "    <tr>\n",
              "      <th>7</th>\n",
              "      <td>0</td>\n",
              "      <td>0</td>\n",
              "      <td>0</td>\n",
              "      <td>0</td>\n",
              "      <td>0</td>\n",
              "      <td>0</td>\n",
              "      <td>1</td>\n",
              "      <td>0</td>\n",
              "      <td>0</td>\n",
              "      <td>1</td>\n",
              "      <td>1</td>\n",
              "      <td>0</td>\n",
              "      <td>0</td>\n",
              "      <td>0</td>\n",
              "      <td>0</td>\n",
              "      <td>0</td>\n",
              "      <td>0</td>\n",
              "      <td>0</td>\n",
              "      <td>1</td>\n",
              "      <td>0</td>\n",
              "      <td>1</td>\n",
              "      <td>0</td>\n",
              "      <td>0</td>\n",
              "      <td>0</td>\n",
              "      <td>0</td>\n",
              "    </tr>\n",
              "    <tr>\n",
              "      <th>8</th>\n",
              "      <td>1</td>\n",
              "      <td>1</td>\n",
              "      <td>0</td>\n",
              "      <td>0</td>\n",
              "      <td>0</td>\n",
              "      <td>0</td>\n",
              "      <td>1</td>\n",
              "      <td>0</td>\n",
              "      <td>0</td>\n",
              "      <td>1</td>\n",
              "      <td>0</td>\n",
              "      <td>0</td>\n",
              "      <td>0</td>\n",
              "      <td>0</td>\n",
              "      <td>0</td>\n",
              "      <td>1</td>\n",
              "      <td>0</td>\n",
              "      <td>1</td>\n",
              "      <td>0</td>\n",
              "      <td>0</td>\n",
              "      <td>0</td>\n",
              "      <td>0</td>\n",
              "      <td>0</td>\n",
              "      <td>1</td>\n",
              "      <td>0</td>\n",
              "    </tr>\n",
              "    <tr>\n",
              "      <th>9</th>\n",
              "      <td>1</td>\n",
              "      <td>1</td>\n",
              "      <td>0</td>\n",
              "      <td>0</td>\n",
              "      <td>0</td>\n",
              "      <td>1</td>\n",
              "      <td>0</td>\n",
              "      <td>1</td>\n",
              "      <td>0</td>\n",
              "      <td>0</td>\n",
              "      <td>0</td>\n",
              "      <td>0</td>\n",
              "      <td>0</td>\n",
              "      <td>0</td>\n",
              "      <td>1</td>\n",
              "      <td>0</td>\n",
              "      <td>0</td>\n",
              "      <td>0</td>\n",
              "      <td>1</td>\n",
              "      <td>0</td>\n",
              "      <td>0</td>\n",
              "      <td>0</td>\n",
              "      <td>0</td>\n",
              "      <td>1</td>\n",
              "      <td>0</td>\n",
              "    </tr>\n",
              "  </tbody>\n",
              "</table>\n",
              "</div>"
            ],
            "text/plain": [
              "   Survived  Sex  Cabin  ...  Title_Mr  Title_Mrs  Title_Rare\n",
              "0         0    0      0  ...         1          0           0\n",
              "1         1    1      1  ...         0          1           0\n",
              "2         1    1      0  ...         0          0           0\n",
              "3         1    1      1  ...         0          1           0\n",
              "4         0    0      0  ...         1          0           0\n",
              "5         0    0      0  ...         1          0           0\n",
              "6         0    0      1  ...         1          0           0\n",
              "7         0    0      0  ...         0          0           0\n",
              "8         1    1      0  ...         0          1           0\n",
              "9         1    1      0  ...         0          1           0\n",
              "\n",
              "[10 rows x 25 columns]"
            ]
          },
          "metadata": {
            "tags": []
          },
          "execution_count": 313
        }
      ]
    },
    {
      "cell_type": "markdown",
      "metadata": {
        "id": "f_So8b9UIfmR"
      },
      "source": [
        "Train/Test Split"
      ]
    },
    {
      "cell_type": "code",
      "metadata": {
        "id": "VBw9gKhIIsN5"
      },
      "source": [
        "# manual parameters\n",
        "TEST_RATIO = 0.2\n",
        "RANDOM_SEED = 42"
      ],
      "execution_count": 314,
      "outputs": []
    },
    {
      "cell_type": "code",
      "metadata": {
        "id": "pR5y6DPWHU6f"
      },
      "source": [
        "features = train.drop('Survived', axis=1).values\n",
        "labels = train.Survived.values\n",
        "\n",
        "# splitting our \n",
        "from sklearn.model_selection import train_test_split\n",
        "X_train, X_test, y_train, y_test = train_test_split(features,\n",
        "                                                    labels,\n",
        "                                                    test_size=TEST_RATIO,\n",
        "                                                    random_state=RANDOM_SEED)"
      ],
      "execution_count": 315,
      "outputs": []
    },
    {
      "cell_type": "code",
      "metadata": {
        "id": "3yvPuuv2IeXO"
      },
      "source": [
        "def training_accuracy_report(GridSearchCv_classifier):\n",
        "    print(\n",
        "f\"\"\"Best parameters: \n",
        "    {GridSearchCv_classifier.best_params_}\n",
        "    \n",
        "Best estimator:\n",
        "    {GridSearchCv_classifier.best_estimator_}\n",
        "    \n",
        "Mean cross-validated score of the best_estimator on the training set:\n",
        "    {GridSearchCv_classifier.best_score_*100:,.2f}%    \n",
        "\"\"\")\n"
      ],
      "execution_count": 316,
      "outputs": []
    },
    {
      "cell_type": "markdown",
      "metadata": {
        "id": "kIjXerrSMrjw"
      },
      "source": [
        "<a name=\"2.1.1\"></a>\n",
        "#### 2.1.1 Support Vector Machine\n",
        "Back to [Table of Contents](#0)"
      ]
    },
    {
      "cell_type": "code",
      "metadata": {
        "id": "sGda3rO5IeTn",
        "colab": {
          "base_uri": "https://localhost:8080/"
        },
        "outputId": "b2ee67f4-d1de-4a53-e3a0-9f1b2c632bcb"
      },
      "source": [
        "from sklearn import svm\n",
        "from sklearn.model_selection import GridSearchCV\n",
        "\n",
        "# parameter grid for our search\n",
        "parameters = {\n",
        "    'C': [0.1, 1, 10],\n",
        "    'degree': [2, 3, 4], # only applies to kernel == 'poly'\n",
        "    'kernel': ('linear', 'rbf', 'poly')\n",
        "}\n",
        "\n",
        "# initiating our support vector machine\n",
        "svm = svm.SVC(gamma='scale',\n",
        "              probability=True,\n",
        "              random_state=RANDOM_SEED)\n",
        "classifier = GridSearchCV(estimator=svm,\n",
        "                          param_grid=parameters,\n",
        "                          cv=5)\n",
        "\n",
        "# fitting the model\n",
        "best_svm = classifier.fit(X_train, y_train)\n",
        "\n",
        "# view the results of our cross-validated grid search \n",
        "training_accuracy_report(best_svm)"
      ],
      "execution_count": 317,
      "outputs": [
        {
          "output_type": "stream",
          "text": [
            "Best parameters: \n",
            "    {'C': 0.1, 'degree': 4, 'kernel': 'poly'}\n",
            "    \n",
            "Best estimator:\n",
            "    SVC(C=0.1, break_ties=False, cache_size=200, class_weight=None, coef0=0.0,\n",
            "    decision_function_shape='ovr', degree=4, gamma='scale', kernel='poly',\n",
            "    max_iter=-1, probability=True, random_state=42, shrinking=True, tol=0.001,\n",
            "    verbose=False)\n",
            "    \n",
            "Mean cross-validated score of the best_estimator on the training set:\n",
            "    81.60%    \n",
            "\n"
          ],
          "name": "stdout"
        }
      ]
    },
    {
      "cell_type": "code",
      "metadata": {
        "id": "zBHwL6clIeRi",
        "colab": {
          "base_uri": "https://localhost:8080/"
        },
        "outputId": "29a581d1-73b6-498e-d195-6541131eb584"
      },
      "source": [
        "# for accuracy calculation\n",
        "from sklearn import metrics\n",
        "\n",
        "# make predictions\n",
        "y_pred_svm = best_svm.predict(X_test)\n",
        "accuracy = metrics.accuracy_score(y_test, y_pred_svm)\n",
        "\n",
        "# how often is the classifier correct?\n",
        "print(f'Accuracy on the test set: {accuracy*100:,.2f}%')"
      ],
      "execution_count": 318,
      "outputs": [
        {
          "output_type": "stream",
          "text": [
            "Accuracy on the test set: 78.21%\n"
          ],
          "name": "stdout"
        }
      ]
    },
    {
      "cell_type": "markdown",
      "metadata": {
        "id": "TwBsPm1mM4EO"
      },
      "source": [
        "<a name=\"2.1.2\"></a>\n",
        "#### 2.1.2 Gradient Boosted Trees\n",
        "Back to [Table of Contents](#0)"
      ]
    },
    {
      "cell_type": "code",
      "metadata": {
        "id": "48d1M_UFIePL",
        "colab": {
          "base_uri": "https://localhost:8080/"
        },
        "outputId": "ddffee82-b482-46b7-a7ce-dfb98bcbf41b"
      },
      "source": [
        "import xgboost as xgb\n",
        "\n",
        "# parameter grid for our search\n",
        "parameters = {\n",
        "    'min_child_weight': [5, 6, 7],\n",
        "    'gamma': [0, 0.2],\n",
        "    'colsample_bytree': [0, 0.2, 0.4],\n",
        "    'max_depth': [3, 4, 5]\n",
        "}\n",
        "\n",
        "# initiating our gradient boosted tree\n",
        "xgb = xgb.XGBClassifier(objective='reg:squarederror', random_state=RANDOM_SEED)\n",
        "classifier = GridSearchCV(estimator=xgb,\n",
        "                          param_grid=parameters,\n",
        "                          cv=5)\n",
        "\n",
        "# fitting the model\n",
        "best_xgb = classifier.fit(X_train, y_train)\n",
        "\n",
        "# view the results of our cross-validated grid search \n",
        "training_accuracy_report(best_xgb)"
      ],
      "execution_count": 319,
      "outputs": [
        {
          "output_type": "stream",
          "text": [
            "Best parameters: \n",
            "    {'colsample_bytree': 0.4, 'gamma': 0, 'max_depth': 4, 'min_child_weight': 5}\n",
            "    \n",
            "Best estimator:\n",
            "    XGBClassifier(base_score=0.5, booster='gbtree', colsample_bylevel=1,\n",
            "              colsample_bynode=1, colsample_bytree=0.4, gamma=0,\n",
            "              learning_rate=0.1, max_delta_step=0, max_depth=4,\n",
            "              min_child_weight=5, missing=None, n_estimators=100, n_jobs=1,\n",
            "              nthread=None, objective='reg:squarederror', random_state=42,\n",
            "              reg_alpha=0, reg_lambda=1, scale_pos_weight=1, seed=None,\n",
            "              silent=None, subsample=1, verbosity=1)\n",
            "    \n",
            "Mean cross-validated score of the best_estimator on the training set:\n",
            "    82.02%    \n",
            "\n"
          ],
          "name": "stdout"
        }
      ]
    },
    {
      "cell_type": "code",
      "metadata": {
        "id": "cV5E70s6IeM9",
        "colab": {
          "base_uri": "https://localhost:8080/"
        },
        "outputId": "74f26b2d-081d-43fe-957c-ade3d034277b"
      },
      "source": [
        "# make predictions\n",
        "y_pred_xgb = best_xgb.predict(X_test)\n",
        "accuracy = metrics.accuracy_score(y_test, y_pred_xgb)\n",
        "\n",
        "# how often is the classifier correct?\n",
        "print(f'Accuracy on the test set: {accuracy*100:,.2f}%')"
      ],
      "execution_count": 320,
      "outputs": [
        {
          "output_type": "stream",
          "text": [
            "Accuracy on the test set: 81.56%\n"
          ],
          "name": "stdout"
        }
      ]
    },
    {
      "cell_type": "markdown",
      "metadata": {
        "id": "3MJG2jSfNC4O"
      },
      "source": [
        "<a name=\"2.1.3\"></a>\n",
        "#### 2.1.3 Random Forest\n",
        "Back to [Table of Contents](#0)"
      ]
    },
    {
      "cell_type": "code",
      "metadata": {
        "id": "On3WX_dxIeLA",
        "colab": {
          "base_uri": "https://localhost:8080/"
        },
        "outputId": "aa0415de-dd0d-46ed-d18b-83648480e7eb"
      },
      "source": [
        "from sklearn.ensemble import RandomForestClassifier\n",
        "\n",
        "# parameter grid for our search\n",
        "parameters = {\n",
        "    'n_estimators': [75, 100, 125, ],\n",
        "    'max_depth': [10, 50, 100, None],\n",
        "    'max_features': [0.5, 1],\n",
        "    'min_samples_split': [2, 3, 10],\n",
        "    'min_samples_leaf': [2, 3]\n",
        "}\n",
        "\n",
        "rfc = RandomForestClassifier(criterion='gini',\n",
        "                             bootstrap=False,\n",
        "                             random_state=RANDOM_SEED)\n",
        "classifier = GridSearchCV(estimator=rfc,\n",
        "                          param_grid=parameters,\n",
        "                          cv=5)\n",
        "\n",
        "# fitting the model\n",
        "best_rfc = classifier.fit(X_train, y_train)\n",
        "\n",
        "# view the results of our cross-validated grid search \n",
        "training_accuracy_report(best_rfc)"
      ],
      "execution_count": 321,
      "outputs": [
        {
          "output_type": "stream",
          "text": [
            "Best parameters: \n",
            "    {'max_depth': 10, 'max_features': 1, 'min_samples_leaf': 2, 'min_samples_split': 2, 'n_estimators': 75}\n",
            "    \n",
            "Best estimator:\n",
            "    RandomForestClassifier(bootstrap=False, ccp_alpha=0.0, class_weight=None,\n",
            "                       criterion='gini', max_depth=10, max_features=1,\n",
            "                       max_leaf_nodes=None, max_samples=None,\n",
            "                       min_impurity_decrease=0.0, min_impurity_split=None,\n",
            "                       min_samples_leaf=2, min_samples_split=2,\n",
            "                       min_weight_fraction_leaf=0.0, n_estimators=75,\n",
            "                       n_jobs=None, oob_score=False, random_state=42, verbose=0,\n",
            "                       warm_start=False)\n",
            "    \n",
            "Mean cross-validated score of the best_estimator on the training set:\n",
            "    81.89%    \n",
            "\n"
          ],
          "name": "stdout"
        }
      ]
    },
    {
      "cell_type": "code",
      "metadata": {
        "id": "i8MB02bJIeH-",
        "colab": {
          "base_uri": "https://localhost:8080/"
        },
        "outputId": "b1086362-7550-4a26-c015-dae65446444e"
      },
      "source": [
        "# make predictions\n",
        "y_pred_rfc = best_rfc.predict(X_test)\n",
        "accuracy = metrics.accuracy_score(y_test, y_pred_rfc)\n",
        "\n",
        "# how often is the classifier correct?\n",
        "print(f'Accuracy on the test set: {accuracy*100:,.2f}%')"
      ],
      "execution_count": 322,
      "outputs": [
        {
          "output_type": "stream",
          "text": [
            "Accuracy on the test set: 80.45%\n"
          ],
          "name": "stdout"
        }
      ]
    },
    {
      "cell_type": "markdown",
      "metadata": {
        "id": "-8CgAEVZNaUt"
      },
      "source": [
        "#### Voting Ensemble"
      ]
    },
    {
      "cell_type": "code",
      "metadata": {
        "id": "hR5FfYfIIeE2"
      },
      "source": [
        "from sklearn.ensemble import VotingClassifier\n",
        "\n",
        "# configuring \n",
        "vc = VotingClassifier(\n",
        "    \n",
        "    # all classifiers we just gridsearched\n",
        "    estimators=[\n",
        "        ('svm', best_svm),\n",
        "        ('xgb', best_xgb),\n",
        "        ('rfc', best_rfc)\n",
        "    ], \n",
        "    \n",
        "    # soft = probabilities are taken into account\n",
        "    # hard = only the outcome counts\n",
        "    voting='soft',\n",
        "    \n",
        "    # you can add weights, as well. E.g.\n",
        "    weights=[2, 3, 2] \n",
        "    \n",
        ")\n",
        "\n",
        "# fitting\n",
        "vc = vc.fit(X_train, y_train)"
      ],
      "execution_count": 323,
      "outputs": []
    },
    {
      "cell_type": "code",
      "metadata": {
        "id": "inqtuCnqIeCO",
        "colab": {
          "base_uri": "https://localhost:8080/"
        },
        "outputId": "6ecaf471-937e-43f9-a6e9-07a71868dfef"
      },
      "source": [
        "# accuracy on test set\n",
        "y_pred_vc = vc.predict(X_test)\n",
        "accuracy = metrics.accuracy_score(y_test, y_pred_vc)\n",
        "\n",
        "# how often is the classifier correct?\n",
        "print(f'Accuracy on the test set: {accuracy*100:,.2f}%')"
      ],
      "execution_count": 324,
      "outputs": [
        {
          "output_type": "stream",
          "text": [
            "Accuracy on the test set: 79.89%\n"
          ],
          "name": "stdout"
        }
      ]
    },
    {
      "cell_type": "markdown",
      "metadata": {
        "id": "WCCFGvVhnJSW"
      },
      "source": [
        "<a name=\"2.2\"></a>\n",
        "### 2.2 Averaging\n",
        "Back to [Table of Contents](#0)"
      ]
    },
    {
      "cell_type": "code",
      "metadata": {
        "colab": {
          "base_uri": "https://localhost:8080/"
        },
        "id": "4lES-PMvSNtW",
        "outputId": "e4f4f4fe-6fae-4a0a-e040-33360c0bdcf0"
      },
      "source": [
        "resultXGB = best_xgb.best_score_*100\n",
        "resultXGB"
      ],
      "execution_count": 325,
      "outputs": [
        {
          "output_type": "execute_result",
          "data": {
            "text/plain": [
              "82.02206244459767"
            ]
          },
          "metadata": {
            "tags": []
          },
          "execution_count": 325
        }
      ]
    },
    {
      "cell_type": "code",
      "metadata": {
        "colab": {
          "base_uri": "https://localhost:8080/"
        },
        "id": "5EhVuFapTWxC",
        "outputId": "d276581e-418c-447e-810a-79f0d87a5104"
      },
      "source": [
        "resultSVM = best_svm.best_score_*100\n",
        "resultSVM"
      ],
      "execution_count": 326,
      "outputs": [
        {
          "output_type": "execute_result",
          "data": {
            "text/plain": [
              "81.59755737220526"
            ]
          },
          "metadata": {
            "tags": []
          },
          "execution_count": 326
        }
      ]
    },
    {
      "cell_type": "code",
      "metadata": {
        "colab": {
          "base_uri": "https://localhost:8080/"
        },
        "id": "hbt2S5gfTcF9",
        "outputId": "bb461705-4e13-407c-8007-4c46e0eed303"
      },
      "source": [
        "resultRFC = best_rfc.best_score_*100\n",
        "resultRFC"
      ],
      "execution_count": 327,
      "outputs": [
        {
          "output_type": "execute_result",
          "data": {
            "text/plain": [
              "81.8851570964247"
            ]
          },
          "metadata": {
            "tags": []
          },
          "execution_count": 327
        }
      ]
    },
    {
      "cell_type": "code",
      "metadata": {
        "colab": {
          "base_uri": "https://localhost:8080/"
        },
        "id": "Ys4PzL9dTg4Y",
        "outputId": "a08dcf2c-ca25-4d46-e23e-299531e3a809"
      },
      "source": [
        "resultAverage = (resultXGB + resultSVM + resultRFC) / 3\n",
        "resultAverage"
      ],
      "execution_count": 328,
      "outputs": [
        {
          "output_type": "execute_result",
          "data": {
            "text/plain": [
              "81.83492563774254"
            ]
          },
          "metadata": {
            "tags": []
          },
          "execution_count": 328
        }
      ]
    },
    {
      "cell_type": "markdown",
      "metadata": {
        "id": "v-i_S8qwnJP5"
      },
      "source": [
        "<a name=\"2.3\"></a>\n",
        "### 2.3 Weighted Average\n",
        "Back to [Table of Contents](#0)"
      ]
    },
    {
      "cell_type": "code",
      "metadata": {
        "colab": {
          "base_uri": "https://localhost:8080/"
        },
        "id": "SMWG7RyUUR6R",
        "outputId": "f84819a6-0bb4-4621-ad05-f1ed6b41a3e6"
      },
      "source": [
        "weightXGB = 0.3\n",
        "resultXGB = best_xgb.best_score_*100\n",
        "resultXGB"
      ],
      "execution_count": 329,
      "outputs": [
        {
          "output_type": "execute_result",
          "data": {
            "text/plain": [
              "82.02206244459767"
            ]
          },
          "metadata": {
            "tags": []
          },
          "execution_count": 329
        }
      ]
    },
    {
      "cell_type": "code",
      "metadata": {
        "colab": {
          "base_uri": "https://localhost:8080/"
        },
        "id": "WeV4EtXaUR3C",
        "outputId": "b56e0022-e34b-44b6-d689-5bc69d6538c8"
      },
      "source": [
        "weightSVM = 0.3\n",
        "resultSVM = best_svm.best_score_*100\n",
        "resultSVM"
      ],
      "execution_count": 330,
      "outputs": [
        {
          "output_type": "execute_result",
          "data": {
            "text/plain": [
              "81.59755737220526"
            ]
          },
          "metadata": {
            "tags": []
          },
          "execution_count": 330
        }
      ]
    },
    {
      "cell_type": "code",
      "metadata": {
        "colab": {
          "base_uri": "https://localhost:8080/"
        },
        "id": "FSNCp2_UUR0c",
        "outputId": "94d7eb13-b9e7-4356-c47d-fd99b5a98ec1"
      },
      "source": [
        "weightRFC = 0.4\n",
        "resultRFC = best_rfc.best_score_*100\n",
        "resultRFC"
      ],
      "execution_count": 331,
      "outputs": [
        {
          "output_type": "execute_result",
          "data": {
            "text/plain": [
              "81.8851570964247"
            ]
          },
          "metadata": {
            "tags": []
          },
          "execution_count": 331
        }
      ]
    },
    {
      "cell_type": "code",
      "metadata": {
        "colab": {
          "base_uri": "https://localhost:8080/"
        },
        "id": "tXmPClVJURx4",
        "outputId": "c1115348-4c66-4ccf-b5c9-c9fa5c430709"
      },
      "source": [
        "resultWeightedAverage = ( weightXGB*resultXGB + weightSVM*resultSVM + weightRFC*resultRFC)\n",
        "resultWeightedAverage"
      ],
      "execution_count": 332,
      "outputs": [
        {
          "output_type": "execute_result",
          "data": {
            "text/plain": [
              "81.83994878361077"
            ]
          },
          "metadata": {
            "tags": []
          },
          "execution_count": 332
        }
      ]
    },
    {
      "cell_type": "markdown",
      "metadata": {
        "id": "NLSvPBrnnJNN"
      },
      "source": [
        "<a name=\"2.4\"></a>\n",
        "### 2.4 Bagging\n",
        "Back to [Table of Contents](#0)"
      ]
    },
    {
      "cell_type": "code",
      "metadata": {
        "id": "bSwkbYrhhjrc"
      },
      "source": [
        "from sklearn.ensemble import BaggingClassifier\n",
        "from sklearn.model_selection import GridSearchCV, StratifiedShuffleSplit\n",
        "from matplotlib import pyplot as plt\n",
        "import seaborn as sns"
      ],
      "execution_count": 333,
      "outputs": []
    },
    {
      "cell_type": "code",
      "metadata": {
        "id": "6PvHIdKkWj-c"
      },
      "source": [
        "train = titanicTrainDf.copy(deep = True)\n",
        "test = titanicTestDf.copy(deep = True)"
      ],
      "execution_count": 334,
      "outputs": []
    },
    {
      "cell_type": "markdown",
      "metadata": {
        "id": "yaJTTbWmozqD"
      },
      "source": [
        "[Reference](https://www.kaggle.com/masumrumi/a-statistical-analysis-ml-workflow-of-titanic)"
      ]
    },
    {
      "cell_type": "code",
      "metadata": {
        "id": "im2VNCC1ngga"
      },
      "source": [
        "## saving passenger id in advance in order to submit later. \n",
        "passengerid = test.PassengerId\n",
        "\n",
        "## Replacing the null values in the Embarked column with the mode. \n",
        "train.Embarked.fillna(\"C\", inplace=True)\n",
        "\n",
        "## Concat train and test into a variable \"all_data\"\n",
        "survivers = train.Survived\n",
        "\n",
        "train.drop([\"Survived\"],axis=1, inplace=True)\n",
        "\n",
        "all_data = pd.concat([train,test], ignore_index=False)\n",
        "\n",
        "## Assign all the null values to N\n",
        "all_data.Cabin.fillna(\"N\", inplace=True)\n",
        "\n",
        "all_data.Cabin = [i[0] for i in all_data.Cabin]\n",
        "\n",
        "with_N = all_data[all_data.Cabin == \"N\"]\n",
        "\n",
        "without_N = all_data[all_data.Cabin != \"N\"]\n",
        "\n",
        "all_data.groupby(\"Cabin\")['Fare'].mean().sort_values()\n",
        "\n",
        "def cabin_estimator(i):\n",
        "    a = 0\n",
        "    if i<16:\n",
        "        a = \"G\"\n",
        "    elif i>=16 and i<27:\n",
        "        a = \"F\"\n",
        "    elif i>=27 and i<38:\n",
        "        a = \"T\"\n",
        "    elif i>=38 and i<47:\n",
        "        a = \"A\"\n",
        "    elif i>= 47 and i<53:\n",
        "        a = \"E\"\n",
        "    elif i>= 53 and i<54:\n",
        "        a = \"D\"\n",
        "    elif i>=54 and i<116:\n",
        "        a = 'C'\n",
        "    else:\n",
        "        a = \"B\"\n",
        "    return a\n",
        "    \n",
        "\n",
        "##applying cabin estimator function. \n",
        "with_N['Cabin'] = with_N.Fare.apply(lambda x: cabin_estimator(x))\n",
        "\n",
        "## getting back train. \n",
        "all_data = pd.concat([with_N, without_N], axis=0)\n",
        "\n",
        "## PassengerId helps us separate train and test. \n",
        "all_data.sort_values(by = 'PassengerId', inplace=True)\n",
        "\n",
        "## Separating train and test from all_data. \n",
        "train = all_data[:891]\n",
        "\n",
        "test = all_data[891:]\n",
        "\n",
        "# adding saved target variable with train. \n",
        "train['Survived'] = survivers\n",
        "\n",
        "missing_value = test[(test.Pclass == 3) & (test.Embarked == \"S\") & (test.Sex == \"male\")].Fare.mean()\n",
        "## replace the test.fare null values with test.fare mean\n",
        "test.Fare.fillna(missing_value, inplace=True)\n",
        "\n",
        "## dropping the three outliers where Fare is over $500 \n",
        "train = train[train.Fare < 500]\n",
        "\n",
        "# Placing 0 for female and \n",
        "# 1 for male in the \"Sex\" column. \n",
        "train['Sex'] = train.Sex.apply(lambda x: 0 if x == \"female\" else 1)\n",
        "test['Sex'] = test.Sex.apply(lambda x: 0 if x == \"female\" else 1)\n",
        "\n",
        "# Creating a new colomn with a \n",
        "train['name_length'] = [len(i) for i in train.Name]\n",
        "test['name_length'] = [len(i) for i in test.Name]\n",
        "\n",
        "def name_length_group(size):\n",
        "    a = ''\n",
        "    if (size <=20):\n",
        "        a = 'short'\n",
        "    elif (size <=35):\n",
        "        a = 'medium'\n",
        "    elif (size <=45):\n",
        "        a = 'good'\n",
        "    else:\n",
        "        a = 'long'\n",
        "    return a\n",
        "\n",
        "\n",
        "train['nLength_group'] = train['name_length'].map(name_length_group)\n",
        "test['nLength_group'] = test['name_length'].map(name_length_group)\n",
        "\n",
        "## Here \"map\" is python's built-in function. \n",
        "## \"map\" function basically takes a function and \n",
        "## returns an iterable list/tuple or in this case series. \n",
        "## However,\"map\" can also be used like map(function) e.g. map(name_length_group) \n",
        "## or map(function, iterable{list, tuple}) e.g. map(name_length_group, train[feature]]). \n",
        "## However, here we don't need to use parameter(\"size\") for name_length_group because when we \n",
        "## used the map function like \".map\" with a series before dot, we are basically hinting that series \n",
        "## and the iterable. This is similar to .append approach in python. list.append(a) meaning applying append on list. \n",
        "\n",
        "## cuts the column by given bins based on the range of name_length\n",
        "#group_names = ['short', 'medium', 'good', 'long']\n",
        "#train['name_len_group'] = pd.cut(train['name_length'], bins = 4, labels=group_names)\n",
        "\n",
        "## Title\n",
        "## get the title from the name\n",
        "train[\"title\"] = [i.split('.')[0] for i in train.Name]\n",
        "train[\"title\"] = [i.split(',')[1] for i in train.title]\n",
        "test[\"title\"] = [i.split('.')[0] for i in test.Name]\n",
        "test[\"title\"]= [i.split(',')[1] for i in test.title]\n",
        "\n",
        "#rare_title = ['the Countess','Capt','Lady','Sir','Jonkheer','Don','Major','Col']\n",
        "#train.Name = ['rare' for i in train.Name for j in rare_title if i == j]\n",
        "## train Data\n",
        "train[\"title\"] = [i.replace('Ms', 'Miss') for i in train.title]\n",
        "train[\"title\"] = [i.replace('Mlle', 'Miss') for i in train.title]\n",
        "train[\"title\"] = [i.replace('Mme', 'Mrs') for i in train.title]\n",
        "train[\"title\"] = [i.replace('Dr', 'rare') for i in train.title]\n",
        "train[\"title\"] = [i.replace('Col', 'rare') for i in train.title]\n",
        "train[\"title\"] = [i.replace('Major', 'rare') for i in train.title]\n",
        "train[\"title\"] = [i.replace('Don', 'rare') for i in train.title]\n",
        "train[\"title\"] = [i.replace('Jonkheer', 'rare') for i in train.title]\n",
        "train[\"title\"] = [i.replace('Sir', 'rare') for i in train.title]\n",
        "train[\"title\"] = [i.replace('Lady', 'rare') for i in train.title]\n",
        "train[\"title\"] = [i.replace('Capt', 'rare') for i in train.title]\n",
        "train[\"title\"] = [i.replace('the Countess', 'rare') for i in train.title]\n",
        "train[\"title\"] = [i.replace('Rev', 'rare') for i in train.title]\n",
        "\n",
        "\n",
        "\n",
        "#rare_title = ['the Countess','Capt','Lady','Sir','Jonkheer','Don','Major','Col']\n",
        "#train.Name = ['rare' for i in train.Name for j in rare_title if i == j]\n",
        "## test data\n",
        "test['title'] = [i.replace('Ms', 'Miss') for i in test.title]\n",
        "test['title'] = [i.replace('Dr', 'rare') for i in test.title]\n",
        "test['title'] = [i.replace('Col', 'rare') for i in test.title]\n",
        "test['title'] = [i.replace('Dona', 'rare') for i in test.title]\n",
        "test['title'] = [i.replace('Rev', 'rare') for i in test.title]\n",
        "\n",
        "## Family_size seems like a good feature to create\n",
        "train['family_size'] = train.SibSp + train.Parch+1\n",
        "test['family_size'] = test.SibSp + test.Parch+1\n",
        "\n",
        "def family_group(size):\n",
        "    a = ''\n",
        "    if (size <= 1):\n",
        "        a = 'loner'\n",
        "    elif (size <= 4):\n",
        "        a = 'small'\n",
        "    else:\n",
        "        a = 'large'\n",
        "    return a\n",
        "\n",
        "train['family_group'] = train['family_size'].map(family_group)\n",
        "test['family_group'] = test['family_size'].map(family_group)\n",
        "\n",
        "train['is_alone'] = [1 if i<2 else 0 for i in train.family_size]\n",
        "test['is_alone'] = [1 if i<2 else 0 for i in test.family_size]\n",
        "\n",
        "train.drop(['Ticket'], axis=1, inplace=True)\n",
        "\n",
        "test.drop(['Ticket'], axis=1, inplace=True)\n",
        "\n",
        "## Calculating fare based on family size. \n",
        "train['calculated_fare'] = train.Fare/train.family_size\n",
        "test['calculated_fare'] = test.Fare/test.family_size\n",
        "\n",
        "def fare_group(fare):\n",
        "    a= ''\n",
        "    if fare <= 4:\n",
        "        a = 'Very_low'\n",
        "    elif fare <= 10:\n",
        "        a = 'low'\n",
        "    elif fare <= 20:\n",
        "        a = 'mid'\n",
        "    elif fare <= 45:\n",
        "        a = 'high'\n",
        "    else:\n",
        "        a = \"very_high\"\n",
        "    return a\n",
        "\n",
        "train['fare_group'] = train['calculated_fare'].map(fare_group)\n",
        "test['fare_group'] = test['calculated_fare'].map(fare_group)\n",
        "\n",
        "#train['fare_group'] = pd.cut(train['calculated_fare'], bins = 4, labels=groups)\n",
        "\n",
        "train.drop(['PassengerId'], axis=1, inplace=True)\n",
        "\n",
        "test.drop(['PassengerId'], axis=1, inplace=True)\n",
        "\n",
        "\n",
        "train = pd.get_dummies(train, columns=['title',\"Pclass\", 'Cabin','Embarked','nLength_group', 'family_group', 'fare_group'], drop_first=False)\n",
        "test = pd.get_dummies(test, columns=['title',\"Pclass\",'Cabin','Embarked','nLength_group', 'family_group', 'fare_group'], drop_first=False)\n",
        "train.drop(['family_size','Name', 'Fare','name_length'], axis=1, inplace=True)\n",
        "test.drop(['Name','family_size',\"Fare\",'name_length'], axis=1, inplace=True)\n",
        "\n",
        "## rearranging the columns so that I can easily use the dataframe to predict the missing age values. \n",
        "train = pd.concat([train[[\"Survived\", \"Age\", \"Sex\",\"SibSp\",\"Parch\"]], train.loc[:,\"is_alone\":]], axis=1)\n",
        "test = pd.concat([test[[\"Age\", \"Sex\"]], test.loc[:,\"SibSp\":]], axis=1)\n",
        "\n",
        "## Importing RandomForestRegressor\n",
        "from sklearn.ensemble import RandomForestRegressor\n",
        "\n",
        "## writing a function that takes a dataframe with missing values and outputs it by filling the missing values. \n",
        "def completing_age(df):\n",
        "    ## gettting all the features except survived\n",
        "    age_df = df.loc[:,\"Age\":] \n",
        "    \n",
        "    temp_train = age_df.loc[age_df.Age.notnull()] ## df with age values\n",
        "    temp_test = age_df.loc[age_df.Age.isnull()] ## df without age values\n",
        "    \n",
        "    y = temp_train.Age.values ## setting target variables(age) in y \n",
        "    x = temp_train.loc[:, \"Sex\":].values\n",
        "    \n",
        "    rfr = RandomForestRegressor(n_estimators=1500, n_jobs=-1)\n",
        "    rfr.fit(x, y)\n",
        "    \n",
        "    predicted_age = rfr.predict(temp_test.loc[:, \"Sex\":])\n",
        "    \n",
        "    df.loc[df.Age.isnull(), \"Age\"] = predicted_age\n",
        "    \n",
        "\n",
        "    return df\n",
        "\n",
        "## Implementing the completing_age function in both train and test dataset. \n",
        "completing_age(train)\n",
        "completing_age(test);\n",
        "\n",
        "## create bins for age\n",
        "def age_group_fun(age):\n",
        "    a = ''\n",
        "    if age <= 1:\n",
        "        a = 'infant'\n",
        "    elif age <= 4: \n",
        "        a = 'toddler'\n",
        "    elif age <= 13:\n",
        "        a = 'child'\n",
        "    elif age <= 18:\n",
        "        a = 'teenager'\n",
        "    elif age <= 35:\n",
        "        a = 'Young_Adult'\n",
        "    elif age <= 45:\n",
        "        a = 'adult'\n",
        "    elif age <= 55:\n",
        "        a = 'middle_aged'\n",
        "    elif age <= 65:\n",
        "        a = 'senior_citizen'\n",
        "    else:\n",
        "        a = 'old'\n",
        "    return a\n",
        "        \n",
        "## Applying \"age_group_fun\" function to the \"Age\" column.\n",
        "train['age_group'] = train['Age'].map(age_group_fun)\n",
        "test['age_group'] = test['Age'].map(age_group_fun)\n",
        "\n",
        "## Creating dummies for \"age_group\" feature. \n",
        "train = pd.get_dummies(train,columns=['age_group'], drop_first=True)\n",
        "test = pd.get_dummies(test,columns=['age_group'], drop_first=True);\n",
        "\n",
        "\"\"\"train.drop('Age', axis=1, inplace=True)\n",
        "test.drop('Age', axis=1, inplace=True)\"\"\"\n",
        "\n",
        "# separating our independent and dependent variable\n",
        "X = train.drop(['Survived'], axis = 1)\n",
        "y = train[\"Survived\"]\n",
        "\n",
        "\n",
        "#age_filled_data_nor = NuclearNormMinimization().complete(df1)\n",
        "#Data_1 = pd.DataFrame(age_filled_data, columns = df1.columns)\n",
        "#pd.DataFrame(zip(Data[\"Age\"],Data_1[\"Age\"],df[\"Age\"]))\n",
        "\n",
        "from sklearn.model_selection import train_test_split\n",
        "train_x, test_x, train_y, test_y = train_test_split(X,y,test_size = .33, random_state = 0)\n",
        "\n",
        "# Feature Scaling\n",
        "## We will be using standardscaler to transform\n",
        "from sklearn.preprocessing import StandardScaler\n",
        "sc = StandardScaler()\n",
        "\n",
        "## transforming \"train_x\"\n",
        "train_x = sc.fit_transform(train_x)\n",
        "## transforming \"test_x\"\n",
        "test_x = sc.transform(test_x)\n",
        "\n",
        "## transforming \"The testset\"\n",
        "test = sc.transform(test)\n",
        "\n",
        "## changing calculated_fare type\n",
        "train.calculated_fare = train.calculated_fare.astype(float)\n",
        "\n",
        "## Using StratifiedShuffleSplit\n",
        "## We can use KFold, StratifiedShuffleSplit, StratiriedKFold or ShuffleSplit, They are all close cousins. look at sklearn userguide for more info.   \n",
        "from sklearn.model_selection import StratifiedShuffleSplit, cross_val_score\n",
        "cv = StratifiedShuffleSplit(n_splits = 10, test_size = .25, random_state = 0 ) # run model 10x with 60/30 split intentionally leaving out 10%\n",
        "## Using standard scale for the whole dataset.\n",
        "\n",
        "## saving the feature names for decision tree display\n",
        "column_names = X.columns\n",
        "\n",
        "X = sc.fit_transform(X)"
      ],
      "execution_count": 335,
      "outputs": []
    },
    {
      "cell_type": "code",
      "metadata": {
        "colab": {
          "base_uri": "https://localhost:8080/"
        },
        "id": "6vKJIHtCngdx",
        "outputId": "6ca7a9e7-b28b-4856-cf6a-e8d1b11fbdca"
      },
      "source": [
        "from sklearn.ensemble import BaggingClassifier\n",
        "from sklearn.model_selection import GridSearchCV, StratifiedShuffleSplit\n",
        "n_estimators = [10,30,50,70,80,150,160, 170,175,180,185];\n",
        "cv = StratifiedShuffleSplit(n_splits=10, test_size=.30, random_state=15)\n",
        "\n",
        "parameters = {'n_estimators':n_estimators,\n",
        "              \n",
        "        }\n",
        "grid = GridSearchCV(BaggingClassifier(base_estimator= None, ## If None, then the base estimator is a decision tree.\n",
        "                                      bootstrap_features=False),\n",
        "                                 param_grid=parameters,\n",
        "                                 cv=cv,\n",
        "                                 n_jobs = -1)\n",
        "grid.fit(X,y) "
      ],
      "execution_count": 336,
      "outputs": [
        {
          "output_type": "execute_result",
          "data": {
            "text/plain": [
              "GridSearchCV(cv=StratifiedShuffleSplit(n_splits=10, random_state=15, test_size=0.3,\n",
              "            train_size=None),\n",
              "             error_score=nan,\n",
              "             estimator=BaggingClassifier(base_estimator=None, bootstrap=True,\n",
              "                                         bootstrap_features=False,\n",
              "                                         max_features=1.0, max_samples=1.0,\n",
              "                                         n_estimators=10, n_jobs=None,\n",
              "                                         oob_score=False, random_state=None,\n",
              "                                         verbose=0, warm_start=False),\n",
              "             iid='deprecated', n_jobs=-1,\n",
              "             param_grid={'n_estimators': [10, 30, 50, 70, 80, 150, 160, 170,\n",
              "                                          175, 180, 185]},\n",
              "             pre_dispatch='2*n_jobs', refit=True, return_train_score=False,\n",
              "             scoring=None, verbose=0)"
            ]
          },
          "metadata": {
            "tags": []
          },
          "execution_count": 336
        }
      ]
    },
    {
      "cell_type": "code",
      "metadata": {
        "colab": {
          "base_uri": "https://localhost:8080/"
        },
        "id": "CQ4SSd2bngbD",
        "outputId": "130221bf-9df0-4258-9001-0fa7e3198fc9"
      },
      "source": [
        "print (grid.best_score_)\n",
        "print (grid.best_params_)\n",
        "print (grid.best_estimator_)"
      ],
      "execution_count": 337,
      "outputs": [
        {
          "output_type": "stream",
          "text": [
            "0.8198501872659177\n",
            "{'n_estimators': 30}\n",
            "BaggingClassifier(base_estimator=None, bootstrap=True, bootstrap_features=False,\n",
            "                  max_features=1.0, max_samples=1.0, n_estimators=30,\n",
            "                  n_jobs=None, oob_score=False, random_state=None, verbose=0,\n",
            "                  warm_start=False)\n"
          ],
          "name": "stdout"
        }
      ]
    },
    {
      "cell_type": "code",
      "metadata": {
        "colab": {
          "base_uri": "https://localhost:8080/"
        },
        "id": "mfCOa6kFngYW",
        "outputId": "27f796ad-5456-4556-bf77-6d817c50873e"
      },
      "source": [
        "bagging_grid = grid.best_estimator_\n",
        "bagging_grid.score(X,y)"
      ],
      "execution_count": 338,
      "outputs": [
        {
          "output_type": "execute_result",
          "data": {
            "text/plain": [
              "0.9831081081081081"
            ]
          },
          "metadata": {
            "tags": []
          },
          "execution_count": 338
        }
      ]
    },
    {
      "cell_type": "markdown",
      "metadata": {
        "id": "SOIwf8YmnJKO"
      },
      "source": [
        "<a name=\"2.5\"></a>\n",
        "### 2.5 Boosting\n",
        "Back to [Table of Contents](#0)"
      ]
    },
    {
      "cell_type": "markdown",
      "metadata": {
        "id": "AC-s1CBhXUX-"
      },
      "source": [
        "Already done above!"
      ]
    },
    {
      "cell_type": "code",
      "metadata": {
        "colab": {
          "base_uri": "https://localhost:8080/"
        },
        "id": "EMMmp1ZQXSFI",
        "outputId": "817e1aa2-6240-4718-e6e3-1af53ecdb9f9"
      },
      "source": [
        "import xgboost as xgb\n",
        "\n",
        "# parameter grid for our search\n",
        "parameters = {\n",
        "    'min_child_weight': [5, 6, 7],\n",
        "    'gamma': [0, 0.2],\n",
        "    'colsample_bytree': [0, 0.2, 0.4],\n",
        "    'max_depth': [3, 4, 5]\n",
        "}\n",
        "\n",
        "# initiating our gradient boosted tree\n",
        "xgb = xgb.XGBClassifier(objective='reg:squarederror', random_state=RANDOM_SEED)\n",
        "classifier = GridSearchCV(estimator=xgb,\n",
        "                          param_grid=parameters,\n",
        "                          cv=5)\n",
        "\n",
        "# fitting the model\n",
        "best_xgb = classifier.fit(X_train, y_train)\n",
        "\n",
        "# view the results of our cross-validated grid search \n",
        "training_accuracy_report(best_xgb)"
      ],
      "execution_count": 339,
      "outputs": [
        {
          "output_type": "stream",
          "text": [
            "Best parameters: \n",
            "    {'colsample_bytree': 0.4, 'gamma': 0, 'max_depth': 4, 'min_child_weight': 5}\n",
            "    \n",
            "Best estimator:\n",
            "    XGBClassifier(base_score=0.5, booster='gbtree', colsample_bylevel=1,\n",
            "              colsample_bynode=1, colsample_bytree=0.4, gamma=0,\n",
            "              learning_rate=0.1, max_delta_step=0, max_depth=4,\n",
            "              min_child_weight=5, missing=None, n_estimators=100, n_jobs=1,\n",
            "              nthread=None, objective='reg:squarederror', random_state=42,\n",
            "              reg_alpha=0, reg_lambda=1, scale_pos_weight=1, seed=None,\n",
            "              silent=None, subsample=1, verbosity=1)\n",
            "    \n",
            "Mean cross-validated score of the best_estimator on the training set:\n",
            "    82.02%    \n",
            "\n"
          ],
          "name": "stdout"
        }
      ]
    },
    {
      "cell_type": "code",
      "metadata": {
        "colab": {
          "base_uri": "https://localhost:8080/"
        },
        "id": "Lhn1mRKtXrq5",
        "outputId": "43f40695-0dd9-4d35-d5a4-e78b8c1d3db9"
      },
      "source": [
        "from sklearn.ensemble import AdaBoostClassifier\n",
        "\n",
        "parameters = {\n",
        "    'n_estimators': [10, 50, 100],\n",
        "    'algorithm': ['SAMME', 'SAMME.R'],\n",
        "    'learning_rate': [0.01, 0.1, 1],\n",
        "}\n",
        "\n",
        "# initiating our adaboost classifier\n",
        "ada = AdaBoostClassifier(base_estimator=None, random_state=RANDOM_SEED)\n",
        "classifier = GridSearchCV(estimator=ada,\n",
        "                          param_grid=parameters,\n",
        "                          cv=5)\n",
        "# fitting the model\n",
        "best_ada = classifier.fit(X_train, y_train)\n",
        "\n",
        "# view the results of our cross-validated grid search \n",
        "training_accuracy_report(best_ada)"
      ],
      "execution_count": 340,
      "outputs": [
        {
          "output_type": "stream",
          "text": [
            "Best parameters: \n",
            "    {'algorithm': 'SAMME', 'learning_rate': 1, 'n_estimators': 100}\n",
            "    \n",
            "Best estimator:\n",
            "    AdaBoostClassifier(algorithm='SAMME', base_estimator=None, learning_rate=1,\n",
            "                   n_estimators=100, random_state=42)\n",
            "    \n",
            "Mean cross-validated score of the best_estimator on the training set:\n",
            "    80.62%    \n",
            "\n"
          ],
          "name": "stdout"
        }
      ]
    },
    {
      "cell_type": "markdown",
      "metadata": {
        "id": "OVITKISInJGN"
      },
      "source": [
        "<a name=\"2.6\"></a>\n",
        "### 2.6 Stacking\n",
        "Back to [Table of Contents](#0)"
      ]
    },
    {
      "cell_type": "code",
      "metadata": {
        "id": "1lXQHELLdCPu"
      },
      "source": [
        "from sklearn.model_selection import StratifiedKFold\n"
      ],
      "execution_count": 341,
      "outputs": []
    },
    {
      "cell_type": "code",
      "metadata": {
        "id": "cDHSKpnoamxA"
      },
      "source": [
        "def Stacking(model,train,y,test,n_fold):\n",
        "  folds=StratifiedKFold(n_splits=n_fold,random_state=1)\n",
        "  test_pred=np.empty((test.shape[0],1),float)\n",
        "  train_pred=np.empty((0,1),float)\n",
        "  test_pred = pd.DataFrame(test_pred)\n",
        "  train_pred = pd.DataFrame(train_pred)\n",
        "  for train_indices,val_indices in folds.split(train,y.values.ravel()):\n",
        "    x_train,x_val=train.iloc[train_indices],train.iloc[val_indices]\n",
        "    y_train,y_val=y.iloc[train_indices],y.iloc[val_indices]\n",
        "\n",
        "    model.fit(X=x_train,y=y_train)\n",
        "    train_pred=np.append(train_pred,model.predict(x_val))\n",
        "    test_pred=np.append(test_pred,model.predict(test))\n",
        "  return test_pred.reshape(-1,1),train_pred"
      ],
      "execution_count": 342,
      "outputs": []
    },
    {
      "cell_type": "code",
      "metadata": {
        "id": "9HIPVpK1eD7r"
      },
      "source": [
        "X_train = pd.DataFrame(X_train)\n",
        "X_test = pd.DataFrame(X_test)\n",
        "y_train = pd.DataFrame(y_train)\n",
        "y_test = pd.DataFrame(y_test)"
      ],
      "execution_count": 343,
      "outputs": []
    },
    {
      "cell_type": "code",
      "metadata": {
        "id": "VNKyZ-dEcEC_"
      },
      "source": [
        "from sklearn.svm import SVC\n",
        "\n",
        "model1 = SVC(gamma='scale', probability=True, random_state=RANDOM_SEED)\n",
        "\n",
        "test_pred1 ,train_pred1=Stacking(model=model1,n_fold=10, train=X_train,test=X_test,y=y_train)\n",
        "\n",
        "train_pred1=pd.DataFrame(train_pred1)\n",
        "test_pred1=pd.DataFrame(test_pred1)"
      ],
      "execution_count": 344,
      "outputs": []
    },
    {
      "cell_type": "code",
      "metadata": {
        "id": "1sgSfhu0cD7b"
      },
      "source": [
        "model2 = RandomForestClassifier(random_state=RANDOM_SEED)\n",
        "\n",
        "test_pred2 ,train_pred2=Stacking(model=model2,n_fold=10,train=X_train,test=X_test,y=y_train)\n",
        "\n",
        "train_pred2=pd.DataFrame(train_pred2)\n",
        "test_pred2=pd.DataFrame(test_pred2)"
      ],
      "execution_count": 345,
      "outputs": []
    },
    {
      "cell_type": "code",
      "metadata": {
        "id": "bA9_GB6nevAs"
      },
      "source": [
        "from sklearn.linear_model import LogisticRegression\n"
      ],
      "execution_count": 346,
      "outputs": []
    },
    {
      "cell_type": "code",
      "metadata": {
        "colab": {
          "base_uri": "https://localhost:8080/"
        },
        "id": "-lbfkeQncD2p",
        "outputId": "5e0a8710-25a0-4858-bbd0-cf67ccd627fc"
      },
      "source": [
        "df = pd.concat([train_pred1, train_pred2], axis=1)\n",
        "df_test = pd.concat([test_pred1, test_pred2], axis=1)\n",
        "\n",
        "model = LogisticRegression(random_state=RANDOM_SEED)\n",
        "model.fit(df,y_train)\n",
        "# model.score(df_test, y_test)"
      ],
      "execution_count": 347,
      "outputs": [
        {
          "output_type": "execute_result",
          "data": {
            "text/plain": [
              "LogisticRegression(C=1.0, class_weight=None, dual=False, fit_intercept=True,\n",
              "                   intercept_scaling=1, l1_ratio=None, max_iter=100,\n",
              "                   multi_class='auto', n_jobs=None, penalty='l2',\n",
              "                   random_state=42, solver='lbfgs', tol=0.0001, verbose=0,\n",
              "                   warm_start=False)"
            ]
          },
          "metadata": {
            "tags": []
          },
          "execution_count": 347
        }
      ]
    },
    {
      "cell_type": "markdown",
      "metadata": {
        "id": "nkQ8yUeinJDZ"
      },
      "source": [
        "<a name=\"2.7\"></a>\n",
        "### 2.7 Blending\n",
        "Back to [Table of Contents](#0)"
      ]
    },
    {
      "cell_type": "code",
      "metadata": {
        "id": "EP2nzhWwjzCO"
      },
      "source": [
        "x_train, x_test, y_train, y_test = train_test_split(X, y, test_size=TEST_RATIO, random_state=1)\n",
        "\n",
        "x_train, x_val, y_train, y_val = train_test_split(x_train, y_train, test_size=TEST_RATIO, random_state=1)"
      ],
      "execution_count": 348,
      "outputs": []
    },
    {
      "cell_type": "code",
      "metadata": {
        "id": "DOA-eNsVkuJv"
      },
      "source": [
        "model1 = SVC(gamma='scale', probability=True, random_state=RANDOM_SEED)\n",
        "model1.fit(x_train, y_train)\n",
        "val_pred1=model1.predict(x_val)\n",
        "test_pred1=model1.predict(x_test)\n",
        "val_pred1=pd.DataFrame(val_pred1)\n",
        "test_pred1=pd.DataFrame(test_pred1)"
      ],
      "execution_count": 349,
      "outputs": []
    },
    {
      "cell_type": "code",
      "metadata": {
        "id": "UUO8IxpVi_wJ"
      },
      "source": [
        "model2 = RandomForestClassifier(random_state=RANDOM_SEED)\n",
        "model2.fit(x_train,y_train)\n",
        "val_pred2=model2.predict(x_val)\n",
        "test_pred2=model2.predict(x_test)\n",
        "val_pred2=pd.DataFrame(val_pred2)\n",
        "test_pred2=pd.DataFrame(test_pred2)"
      ],
      "execution_count": 350,
      "outputs": []
    },
    {
      "cell_type": "markdown",
      "metadata": {
        "id": "CM1ZNcWfkRFT"
      },
      "source": [
        "Combining the meta-features and the validation set, a logistic regression model is built to make predictions on the test set."
      ]
    },
    {
      "cell_type": "code",
      "metadata": {
        "id": "l8uCN5_okXb5"
      },
      "source": [
        "x_val = pd.DataFrame(x_val)\n",
        "val_pred1 = pd.DataFrame(val_pred1)\n",
        "val_pred2 = pd.DataFrame(val_pred2)\n",
        "x_test = pd.DataFrame(x_test)\n",
        "test_pred1 = pd.DataFrame(test_pred1)\n",
        "test_pred2 = pd.DataFrame(test_pred2)"
      ],
      "execution_count": 351,
      "outputs": []
    },
    {
      "cell_type": "code",
      "metadata": {
        "colab": {
          "base_uri": "https://localhost:8080/"
        },
        "id": "7S6oXXX5kQ4A",
        "outputId": "1c64c410-51b7-4f19-adf1-4c451c5396cf"
      },
      "source": [
        "df_val=pd.concat([x_val, val_pred1,val_pred2],axis=1)\n",
        "df_test=pd.concat([x_test, test_pred1,test_pred2],axis=1)\n",
        "\n",
        "model = LogisticRegression()\n",
        "model.fit(df_val,y_val)\n",
        "model.score(df_test,y_test)"
      ],
      "execution_count": 352,
      "outputs": [
        {
          "output_type": "execute_result",
          "data": {
            "text/plain": [
              "0.7865168539325843"
            ]
          },
          "metadata": {
            "tags": []
          },
          "execution_count": 352
        }
      ]
    },
    {
      "cell_type": "code",
      "metadata": {
        "id": "Og1arAixkiPR"
      },
      "source": [
        ""
      ],
      "execution_count": 352,
      "outputs": []
    }
  ]
}